{
 "cells": [
  {
   "cell_type": "code",
   "execution_count": null,
   "metadata": {},
   "outputs": [],
   "source": [
    "import os\n",
    "import json\n",
    "import pandas as pd\n",
    "import sys\n",
    "sys.path.append('..')\n",
    "from speech_utils import count_strings_containing_digit, string_contains_digit\n",
    "from pydub import AudioSegment\n",
    "from datasets import Dataset, DatasetDict, Audio, load_dataset, concatenate_datasets\n",
    "\n",
    "\n",
    "jt_transcripts = '/mnt/sea/jt_transcripts'\n",
    "jt_splits = '/mnt/sea/jt_splits'\n",
    "\n",
    "transcript_files = os.listdir(jt_transcripts)\n",
    "dirs = [x[:-4] for x in transcript_files]\n",
    "\n",
    "df = pd.DataFrame()\n",
    "for d in dirs:\n",
    "    df = pd.concat([df, pd.read_csv(os.path.join(jt_transcripts, d + '.csv'))])\n",
    "\n",
    "print(df.shape)\n",
    "df.head()"
   ]
  },
  {
   "cell_type": "code",
   "execution_count": 2,
   "metadata": {},
   "outputs": [
    {
     "name": "stdout",
     "output_type": "stream",
     "text": [
      "Count: 3902 out of 35313 | Percentage: 11.05%\n"
     ]
    },
    {
     "data": {
      "text/plain": [
       "3902"
      ]
     },
     "execution_count": 2,
     "metadata": {},
     "output_type": "execute_result"
    }
   ],
   "source": [
    "count_strings_containing_digit(df['transcript'])"
   ]
  },
  {
   "cell_type": "code",
   "execution_count": 4,
   "metadata": {},
   "outputs": [],
   "source": [
    "df['duration'] = (df['end_sr'] - df['start_sr']) / df['sample_rate']\n"
   ]
  },
  {
   "cell_type": "code",
   "execution_count": 6,
   "metadata": {},
   "outputs": [
    {
     "data": {
      "text/plain": [
       "83.03314854166666"
      ]
     },
     "execution_count": 6,
     "metadata": {},
     "output_type": "execute_result"
    }
   ],
   "source": [
    "sum(df['duration']) / 3600"
   ]
  },
  {
   "cell_type": "code",
   "execution_count": 3,
   "metadata": {},
   "outputs": [
    {
     "data": {
      "text/plain": [
       "10"
      ]
     },
     "execution_count": 3,
     "metadata": {},
     "output_type": "execute_result"
    }
   ],
   "source": [
    "df.id.nunique()"
   ]
  },
  {
   "cell_type": "code",
   "execution_count": null,
   "metadata": {},
   "outputs": [],
   "source": [
    "\n",
    "df['audio'] = df.apply(lambda x: os.path.join(jt_splits, f\"{x['id']}/{x['id']}__{x['chunk_index']}__{x['start_sr']}-{x['end_sr']}__{x['sample_rate']}.wav\"), axis=1)\n",
    "\n",
    "df['duration'] = (df['end_sr'] - df['start_sr']) / df['sample_rate']\n",
    "df['contains_digit'] = df['transcript'].apply(string_contains_digit)\n",
    "print(df.shape)\n",
    "df = df[~df['contains_digit']]\n",
    "df = df.drop(columns=['id', 'chunk_index', 'start_sr', 'end_sr', 'sample_rate', 'contains_digit'])\n",
    "df = df.rename(columns={'transcript': 'text'})\n",
    "df['source'] = 'jt'\n",
    "\n",
    "df.head()"
   ]
  },
  {
   "cell_type": "code",
   "execution_count": 7,
   "metadata": {},
   "outputs": [
    {
     "data": {
      "text/plain": [
       "<Axes: >"
      ]
     },
     "execution_count": 7,
     "metadata": {},
     "output_type": "execute_result"
    },
    {
     "data": {
      "image/png": "[encoded data removed]",
      "text/plain": [
       "<Figure size 640x480 with 1 Axes>"
      ]
     },
     "metadata": {},
     "output_type": "display_data"
    }
   ],
   "source": [
    "df['duration'].hist()"
   ]
  },
  {
   "cell_type": "code",
   "execution_count": 6,
   "metadata": {},
   "outputs": [
    {
     "data": {
      "application/vnd.jupyter.widget-view+json": {
       "model_id": "b9382b50f2b44816be146c5dcce795a9",
       "version_major": 2,
       "version_minor": 0
      },
      "text/plain": [
       "Saving the dataset (0/2 shards):   0%|          | 0/1019 [00:00<?, ? examples/s]"
      ]
     },
     "metadata": {},
     "output_type": "display_data"
    }
   ],
   "source": [
    "ds = DatasetDict({'train': Dataset.from_pandas(df.reset_index(drop=True))})\n",
    "ds = ds.cast_column('audio', Audio(sampling_rate=16000))\n",
    "\n",
    "ds.save_to_disk('../_JT_sample')"
   ]
  },
  {
   "cell_type": "code",
   "execution_count": 8,
   "metadata": {},
   "outputs": [
    {
     "data": {
      "text/plain": [
       "DatasetDict({\n",
       "    train: Dataset({\n",
       "        features: ['text', 'audio', 'duration', 'source'],\n",
       "        num_rows: 1019\n",
       "    })\n",
       "})"
      ]
     },
     "execution_count": 8,
     "metadata": {},
     "output_type": "execute_result"
    }
   ],
   "source": [
    "ds"
   ]
  },
  {
   "cell_type": "code",
   "execution_count": 9,
   "metadata": {},
   "outputs": [
    {
     "name": "stdout",
     "output_type": "stream",
     "text": [
      "[' ', \"'\", ',', '-', '.', '?', 'A', 'I', 'a', 'b', 'c', 'd', 'e', 'g', 'h', 'i', 'j', 'l', 'm', 'n', 'o', 'p', 'r', 's', 't', 'u', 'v', 'w', 'z', 'ं', 'अ', 'आ', 'इ', 'उ', 'ए', 'ओ', 'औ', 'क', 'ग', 'च', 'ज', 'ट', 'ड', 'त', 'थ', 'द', 'न', 'प', 'फ', 'ब', 'म', 'य', 'र', 'ल', 'व', 'श', 'स', 'ह', '़', 'ा', 'ि', 'ी', 'ु', 'ू', 'े', 'ै', 'ॉ', 'ो', '्', '।', 'ਂ', 'ਅ', 'ਆ', 'ਇ', 'ਈ', 'ਉ', 'ਊ', 'ਏ', 'ਐ', 'ਓ', 'ਔ', 'ਕ', 'ਖ', 'ਗ', 'ਘ', 'ਚ', 'ਛ', 'ਜ', 'ਝ', 'ਟ', 'ਠ', 'ਡ', 'ਢ', 'ਣ', 'ਤ', 'ਥ', 'ਦ', 'ਧ', 'ਨ', 'ਪ', 'ਫ', 'ਬ', 'ਭ', 'ਮ', 'ਯ', 'ਰ', 'ਲ', 'ਵ', 'ਸ਼', 'ਸ', 'ਹ', '਼', 'ਾ', 'ਿ', 'ੀ', 'ੁ', 'ੂ', 'ੇ', 'ੈ', 'ੋ', 'ੌ', '੍', 'ਜ਼', 'ੜ', 'ੰ', 'ੱ', 'ం', 'అ', 'ఆ', 'ఇ', 'ఉ', 'ఎ', 'ఏ', 'ఐ', 'క', 'ఖ', 'గ', 'చ', 'జ', 'ట', 'డ', 'త', 'థ', 'ద', 'న', 'ప', 'ఫ', 'బ', 'మ', 'య', 'ర', 'ల', 'వ', 'శ', 'ష', 'స', 'హ', 'ా', 'ి', 'ీ', 'ు', 'ూ', 'ె', 'ే', 'ై', 'ో', 'ౌ', '్']\n"
     ]
    }
   ],
   "source": [
    "# unique chars\n",
    "chars = set()\n",
    "for i, row in df.iterrows():\n",
    "    chars.update(set(row['text']))\n",
    "\n",
    "chars = sorted(list(chars))\n",
    "print(chars)"
   ]
  }
 ],
 "metadata": {
  "kernelspec": {
   "display_name": "ai4bharat",
   "language": "python",
   "name": "python3"
  },
  "language_info": {
   "codemirror_mode": {
    "name": "ipython",
    "version": 3
   },
   "file_extension": ".py",
   "mimetype": "text/x-python",
   "name": "python",
   "nbconvert_exporter": "python",
   "pygments_lexer": "ipython3",
   "version": "3.12.0"
  }
 },
 "nbformat": 4,
 "nbformat_minor": 2
}
