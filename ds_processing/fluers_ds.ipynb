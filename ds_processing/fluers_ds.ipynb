{
 "cells": [
  {
   "cell_type": "code",
   "execution_count": 6,
   "metadata": {},
   "outputs": [
    {
     "name": "stderr",
     "output_type": "stream",
     "text": [
      "/home/kd/anaconda3/envs/hf2/lib/python3.12/site-packages/datasets/load.py:1461: FutureWarning: The repository for google/fleurs contains custom code which must be executed to correctly load the dataset. You can inspect the repository content at https://hf.co/datasets/google/fleurs\n",
      "You can avoid this message in future by passing the argument `trust_remote_code=True`.\n",
      "Passing `trust_remote_code=True` will be mandatory to load this dataset from the next major release of `datasets`.\n",
      "  warnings.warn(\n"
     ]
    },
    {
     "data": {
      "application/vnd.jupyter.widget-view+json": {
       "model_id": "e8ead327b443416c89d7a82747e6c26b",
       "version_major": 2,
       "version_minor": 0
      },
      "text/plain": [
       "Generating train split: 0 examples [00:00, ? examples/s]"
      ]
     },
     "metadata": {},
     "output_type": "display_data"
    },
    {
     "data": {
      "application/vnd.jupyter.widget-view+json": {
       "model_id": "a467e09968444895897ab0de9c14cd5c",
       "version_major": 2,
       "version_minor": 0
      },
      "text/plain": [
       "Generating validation split: 0 examples [00:00, ? examples/s]"
      ]
     },
     "metadata": {},
     "output_type": "display_data"
    },
    {
     "data": {
      "application/vnd.jupyter.widget-view+json": {
       "model_id": "c8b9e8de3fd64acc929f69af86471cf7",
       "version_major": 2,
       "version_minor": 0
      },
      "text/plain": [
       "Generating test split: 0 examples [00:00, ? examples/s]"
      ]
     },
     "metadata": {},
     "output_type": "display_data"
    }
   ],
   "source": [
    "from datasets import load_dataset, load_from_disk, Dataset, DatasetDict\n",
    "\n",
    "ds = load_dataset(\"google/fleurs\", 'pa_in', cache_dir=\"fleurs\")\n"
   ]
  },
  {
   "cell_type": "code",
   "execution_count": 7,
   "metadata": {},
   "outputs": [
    {
     "data": {
      "text/plain": [
       "DatasetDict({\n",
       "    train: Dataset({\n",
       "        features: ['id', 'num_samples', 'path', 'audio', 'transcription', 'raw_transcription', 'gender', 'lang_id', 'language', 'lang_group_id'],\n",
       "        num_rows: 1923\n",
       "    })\n",
       "    validation: Dataset({\n",
       "        features: ['id', 'num_samples', 'path', 'audio', 'transcription', 'raw_transcription', 'gender', 'lang_id', 'language', 'lang_group_id'],\n",
       "        num_rows: 251\n",
       "    })\n",
       "    test: Dataset({\n",
       "        features: ['id', 'num_samples', 'path', 'audio', 'transcription', 'raw_transcription', 'gender', 'lang_id', 'language', 'lang_group_id'],\n",
       "        num_rows: 574\n",
       "    })\n",
       "})"
      ]
     },
     "execution_count": 7,
     "metadata": {},
     "output_type": "execute_result"
    }
   ],
   "source": [
    "ds"
   ]
  },
  {
   "cell_type": "code",
   "execution_count": 8,
   "metadata": {},
   "outputs": [
    {
     "data": {
      "text/plain": [
       "{'id': 281,\n",
       " 'num_samples': 164160,\n",
       " 'path': '/mnt/sea/speech_pa/fleurs/downloads/extracted/e4ab8917a9bf817ef5a85b12cfb4220b6fd1a4451ecb603865b840caedd8c611/10006117397382978925.wav',\n",
       " 'audio': {'path': 'train/10006117397382978925.wav',\n",
       "  'array': array([ 0.        ,  0.        ,  0.        , ..., -0.0038923 ,\n",
       "         -0.00428808, -0.00482011]),\n",
       "  'sampling_rate': 16000},\n",
       " 'transcription': 'ਵਿਰੋਧ ਦੇ ਆਯੋਜਕਾਂ ਨੇ ਕਿਹਾ ਕਿ ਜਰਮਨ ਦੇ ਸ਼ਹਿਰਾਂ ਜਿਵੇਂ ਕਿ ਬਰਲਿਨ ਕੋਲੋਨ ਹੈਮਬਰਗ ਅਤੇ ਹਨੋਵਰ ਵਿੱਚ ਲਗਭਗ 100,000 ਲੋਕ ਬਦਲ ਗਏ।',\n",
       " 'raw_transcription': 'ਵਿਰੋਧ ਦੇ ਆਯੋਜਕਾਂ ਨੇ ਕਿਹਾ ਕਿ ਜਰਮਨ ਦੇ ਸ਼ਹਿਰਾਂ ਜਿਵੇਂ ਕਿ ਬਰਲਿਨ, ਕੋਲੋਨ, ਹੈਮਬਰਗ ਅਤੇ ਹਨੋਵਰ ਵਿੱਚ ਲਗਭਗ 100,000 ਲੋਕ ਬਦਲ ਗਏ।',\n",
       " 'gender': 1,\n",
       " 'lang_id': 73,\n",
       " 'language': 'Punjabi',\n",
       " 'lang_group_id': 4}"
      ]
     },
     "execution_count": 8,
     "metadata": {},
     "output_type": "execute_result"
    }
   ],
   "source": [
    "ds['train'][0]"
   ]
  },
  {
   "cell_type": "code",
   "execution_count": 15,
   "metadata": {},
   "outputs": [
    {
     "data": {
      "application/vnd.jupyter.widget-view+json": {
       "model_id": "d78a3f3596034f00afb0c4136588a5ae",
       "version_major": 2,
       "version_minor": 0
      },
      "text/plain": [
       "Map (num_proc=16):   0%|          | 0/1923 [00:00<?, ? examples/s]"
      ]
     },
     "metadata": {},
     "output_type": "display_data"
    },
    {
     "data": {
      "application/vnd.jupyter.widget-view+json": {
       "model_id": "20c6ffeae80043c5a49b270713f6812f",
       "version_major": 2,
       "version_minor": 0
      },
      "text/plain": [
       "Map (num_proc=16):   0%|          | 0/251 [00:00<?, ? examples/s]"
      ]
     },
     "metadata": {},
     "output_type": "display_data"
    },
    {
     "data": {
      "application/vnd.jupyter.widget-view+json": {
       "model_id": "62a03d5b2a0049988cd104e448d807d2",
       "version_major": 2,
       "version_minor": 0
      },
      "text/plain": [
       "Map (num_proc=16):   0%|          | 0/574 [00:00<?, ? examples/s]"
      ]
     },
     "metadata": {},
     "output_type": "display_data"
    },
    {
     "data": {
      "text/plain": [
       "DatasetDict({\n",
       "    train: Dataset({\n",
       "        features: ['audio', 'text', 'gender', 'duration', 'speaker_id'],\n",
       "        num_rows: 1923\n",
       "    })\n",
       "    validation: Dataset({\n",
       "        features: ['audio', 'text', 'gender', 'duration', 'speaker_id'],\n",
       "        num_rows: 251\n",
       "    })\n",
       "    test: Dataset({\n",
       "        features: ['audio', 'text', 'gender', 'duration', 'speaker_id'],\n",
       "        num_rows: 574\n",
       "    })\n",
       "})"
      ]
     },
     "execution_count": 15,
     "metadata": {},
     "output_type": "execute_result"
    }
   ],
   "source": [
    "def get_duration(x):\n",
    "    x['duration'] = len(x['audio']['array']) / x['audio']['sampling_rate']\n",
    "    x['speaker_id'] = None\n",
    "    return x\n",
    "\n",
    "ds = ds.remove_columns(['id', 'num_samples', 'raw_transcription', 'lang_id', 'language', 'lang_group_id', 'path'])\n",
    "ds = ds.rename_column('transcription', 'text')\n",
    "ds = ds.map(get_duration, num_proc=16)\n",
    "ds\n"
   ]
  },
  {
   "cell_type": "code",
   "execution_count": 16,
   "metadata": {},
   "outputs": [
    {
     "data": {
      "text/plain": [
       "{'audio': {'path': None,\n",
       "  'array': array([ 0.        ,  0.        ,  0.        , ..., -0.00390625,\n",
       "         -0.00430298, -0.00482178]),\n",
       "  'sampling_rate': 16000},\n",
       " 'text': 'ਵਿਰੋਧ ਦੇ ਆਯੋਜਕਾਂ ਨੇ ਕਿਹਾ ਕਿ ਜਰਮਨ ਦੇ ਸ਼ਹਿਰਾਂ ਜਿਵੇਂ ਕਿ ਬਰਲਿਨ ਕੋਲੋਨ ਹੈਮਬਰਗ ਅਤੇ ਹਨੋਵਰ ਵਿੱਚ ਲਗਭਗ 100,000 ਲੋਕ ਬਦਲ ਗਏ।',\n",
       " 'gender': 1,\n",
       " 'duration': 10.26,\n",
       " 'speaker_id': None}"
      ]
     },
     "execution_count": 16,
     "metadata": {},
     "output_type": "execute_result"
    }
   ],
   "source": [
    "ds['train'][0]"
   ]
  },
  {
   "cell_type": "code",
   "execution_count": 18,
   "metadata": {},
   "outputs": [
    {
     "data": {
      "text/plain": [
       "DatasetDict({\n",
       "    train: Dataset({\n",
       "        features: ['audio', 'text', 'gender', 'duration', 'speaker_id'],\n",
       "        num_rows: 1923\n",
       "    })\n",
       "    validation: Dataset({\n",
       "        features: ['audio', 'text', 'gender', 'duration', 'speaker_id'],\n",
       "        num_rows: 251\n",
       "    })\n",
       "    test: Dataset({\n",
       "        features: ['audio', 'text', 'gender', 'duration', 'speaker_id'],\n",
       "        num_rows: 574\n",
       "    })\n",
       "    valid: Dataset({\n",
       "        features: ['audio', 'text', 'gender', 'duration', 'speaker_id'],\n",
       "        num_rows: 251\n",
       "    })\n",
       "})"
      ]
     },
     "execution_count": 18,
     "metadata": {},
     "output_type": "execute_result"
    }
   ],
   "source": [
    "# rename validation split to valid\n",
    "ds['valid'] = ds['validation']\n",
    "ds"
   ]
  },
  {
   "cell_type": "code",
   "execution_count": 21,
   "metadata": {},
   "outputs": [
    {
     "data": {
      "text/plain": [
       "DatasetDict({\n",
       "    train: Dataset({\n",
       "        features: ['audio', 'text', 'gender', 'duration', 'speaker_id'],\n",
       "        num_rows: 1923\n",
       "    })\n",
       "    valid: Dataset({\n",
       "        features: ['audio', 'text', 'gender', 'duration', 'speaker_id'],\n",
       "        num_rows: 251\n",
       "    })\n",
       "    test: Dataset({\n",
       "        features: ['audio', 'text', 'gender', 'duration', 'speaker_id'],\n",
       "        num_rows: 574\n",
       "    })\n",
       "})"
      ]
     },
     "execution_count": 21,
     "metadata": {},
     "output_type": "execute_result"
    }
   ],
   "source": [
    "ds= DatasetDict({\n",
    "    'train': ds['train'],\n",
    "    'valid': ds['valid'],\n",
    "    'test': ds['test']}\n",
    ")\n",
    "ds"
   ]
  },
  {
   "cell_type": "code",
   "execution_count": null,
   "metadata": {},
   "outputs": [],
   "source": [
    "# remove path\n",
    "ds = ds.remove_columns('path')"
   ]
  },
  {
   "cell_type": "code",
   "execution_count": 14,
   "metadata": {},
   "outputs": [
    {
     "data": {
      "text/plain": [
       "446     3\n",
       "5       3\n",
       "347     3\n",
       "86      3\n",
       "81      3\n",
       "       ..\n",
       "776     1\n",
       "909     1\n",
       "1252    1\n",
       "728     1\n",
       "451     1\n",
       "Name: count, Length: 1183, dtype: int64"
      ]
     },
     "execution_count": 14,
     "metadata": {},
     "output_type": "execute_result"
    }
   ],
   "source": [
    "import pandas as pd\n",
    "\n",
    "df = pd.Series(ds['train']['id'])\n",
    "\n",
    "# check duplicates\n",
    "df.value_counts()"
   ]
  },
  {
   "cell_type": "code",
   "execution_count": 12,
   "metadata": {},
   "outputs": [
    {
     "data": {
      "text/plain": [
       "(array([107., 522., 639., 379., 181.,  66.,  21.,   4.,   2.,   2.]),\n",
       " array([ 2.88,  6.27,  9.66, 13.05, 16.44, 19.83, 23.22, 26.61, 30.  ,\n",
       "        33.39, 36.78]),\n",
       " <BarContainer object of 10 artists>)"
      ]
     },
     "execution_count": 12,
     "metadata": {},
     "output_type": "execute_result"
    },
    {
     "data": {
      "image/png": "[encoded data removed]",
      "text/plain": [
       "<Figure size 640x480 with 1 Axes>"
      ]
     },
     "metadata": {},
     "output_type": "display_data"
    }
   ],
   "source": [
    "import pylab as plt\n",
    "plt.hist(ds['duration'])"
   ]
  },
  {
   "cell_type": "code",
   "execution_count": 22,
   "metadata": {},
   "outputs": [
    {
     "data": {
      "application/vnd.jupyter.widget-view+json": {
       "model_id": "87eadddb3f2b4ade9446f947ad0ca5c8",
       "version_major": 2,
       "version_minor": 0
      },
      "text/plain": [
       "Saving the dataset (0/2 shards):   0%|          | 0/1923 [00:00<?, ? examples/s]"
      ]
     },
     "metadata": {},
     "output_type": "display_data"
    },
    {
     "data": {
      "application/vnd.jupyter.widget-view+json": {
       "model_id": "c69e98a32696432bae837ba7a29db196",
       "version_major": 2,
       "version_minor": 0
      },
      "text/plain": [
       "Saving the dataset (0/1 shards):   0%|          | 0/251 [00:00<?, ? examples/s]"
      ]
     },
     "metadata": {},
     "output_type": "display_data"
    },
    {
     "data": {
      "application/vnd.jupyter.widget-view+json": {
       "model_id": "527e6eae88234ae89322a7e7ef7a2c96",
       "version_major": 2,
       "version_minor": 0
      },
      "text/plain": [
       "Saving the dataset (0/1 shards):   0%|          | 0/574 [00:00<?, ? examples/s]"
      ]
     },
     "metadata": {},
     "output_type": "display_data"
    }
   ],
   "source": [
    "ds.save_to_disk('/mnt/data/Speech Dataset/processed_datasets/Fleurs_pa_ASR/')"
   ]
  },
  {
   "cell_type": "code",
   "execution_count": null,
   "metadata": {},
   "outputs": [],
   "source": []
  },
  {
   "cell_type": "code",
   "execution_count": null,
   "metadata": {},
   "outputs": [],
   "source": []
  },
  {
   "cell_type": "code",
   "execution_count": 1,
   "metadata": {},
   "outputs": [
    {
     "data": {
      "text/plain": [
       "DatasetDict({\n",
       "    train: Dataset({\n",
       "        features: ['audio', 'text', 'gender', 'duration', 'speaker_id'],\n",
       "        num_rows: 1923\n",
       "    })\n",
       "    valid: Dataset({\n",
       "        features: ['audio', 'text', 'gender', 'duration', 'speaker_id'],\n",
       "        num_rows: 251\n",
       "    })\n",
       "    test: Dataset({\n",
       "        features: ['audio', 'text', 'gender', 'duration', 'speaker_id'],\n",
       "        num_rows: 574\n",
       "    })\n",
       "})"
      ]
     },
     "execution_count": 1,
     "metadata": {},
     "output_type": "execute_result"
    }
   ],
   "source": [
    "from datasets import load_from_disk\n",
    "\n",
    "ds = load_from_disk('/mnt/data/Speech Dataset/processed_datasets/Fleurs_pa_ASR/')\n",
    "ds"
   ]
  },
  {
   "cell_type": "code",
   "execution_count": 2,
   "metadata": {},
   "outputs": [
    {
     "data": {
      "text/plain": [
       "{'audio': Audio(sampling_rate=16000, mono=True, decode=True, id=None),\n",
       " 'text': Value(dtype='string', id=None),\n",
       " 'gender': ClassLabel(names=['male', 'female', 'other'], id=None),\n",
       " 'duration': Value(dtype='float64', id=None),\n",
       " 'speaker_id': Value(dtype='null', id=None)}"
      ]
     },
     "execution_count": 2,
     "metadata": {},
     "output_type": "execute_result"
    }
   ],
   "source": [
    "ds['train'].features"
   ]
  },
  {
   "cell_type": "code",
   "execution_count": 10,
   "metadata": {},
   "outputs": [
    {
     "data": {
      "application/vnd.jupyter.widget-view+json": {
       "model_id": "697c47cc44e24c9fb510a9b69064004c",
       "version_major": 2,
       "version_minor": 0
      },
      "text/plain": [
       "Casting the dataset:   0%|          | 0/1923 [00:00<?, ? examples/s]"
      ]
     },
     "metadata": {},
     "output_type": "display_data"
    },
    {
     "data": {
      "application/vnd.jupyter.widget-view+json": {
       "model_id": "3551a94a098d4065a517427d314b38ad",
       "version_major": 2,
       "version_minor": 0
      },
      "text/plain": [
       "Casting the dataset:   0%|          | 0/251 [00:00<?, ? examples/s]"
      ]
     },
     "metadata": {},
     "output_type": "display_data"
    },
    {
     "data": {
      "application/vnd.jupyter.widget-view+json": {
       "model_id": "ceffedcb08f14247abc60c5cc2662ea8",
       "version_major": 2,
       "version_minor": 0
      },
      "text/plain": [
       "Casting the dataset:   0%|          | 0/574 [00:00<?, ? examples/s]"
      ]
     },
     "metadata": {},
     "output_type": "display_data"
    },
    {
     "name": "stdout",
     "output_type": "stream",
     "text": [
      "{'audio': {'path': None, 'array': array([ 0.        ,  0.        ,  0.        , ..., -0.00390625,\n",
      "       -0.00430298, -0.00482178]), 'sampling_rate': 16000}, 'text': 'ਵਿਰੋਧ ਦੇ ਆਯੋਜਕਾਂ ਨੇ ਕਿਹਾ ਕਿ ਜਰਮਨ ਦੇ ਸ਼ਹਿਰਾਂ ਜਿਵੇਂ ਕਿ ਬਰਲਿਨ ਕੋਲੋਨ ਹੈਮਬਰਗ ਅਤੇ ਹਨੋਵਰ ਵਿੱਚ ਲਗਭਗ 100,000 ਲੋਕ ਬਦਲ ਗਏ।', 'gender': '1', 'duration': 10.26, 'speaker_id': None}\n"
     ]
    },
    {
     "data": {
      "application/vnd.jupyter.widget-view+json": {
       "model_id": "a046ca309ebf445ea041c3ea3636930e",
       "version_major": 2,
       "version_minor": 0
      },
      "text/plain": [
       "Map (num_proc=24):   0%|          | 0/1923 [00:00<?, ? examples/s]"
      ]
     },
     "metadata": {},
     "output_type": "display_data"
    },
    {
     "data": {
      "application/vnd.jupyter.widget-view+json": {
       "model_id": "04c27888621d4481b2327d656a296b3a",
       "version_major": 2,
       "version_minor": 0
      },
      "text/plain": [
       "Map (num_proc=24):   0%|          | 0/251 [00:00<?, ? examples/s]"
      ]
     },
     "metadata": {},
     "output_type": "display_data"
    },
    {
     "data": {
      "application/vnd.jupyter.widget-view+json": {
       "model_id": "5b3ca0cbeb09438f88fb2b4cd51a77fc",
       "version_major": 2,
       "version_minor": 0
      },
      "text/plain": [
       "Map (num_proc=24):   0%|          | 0/574 [00:00<?, ? examples/s]"
      ]
     },
     "metadata": {},
     "output_type": "display_data"
    }
   ],
   "source": [
    "def map_gender(row):\n",
    "    if row['gender'] == '1':\n",
    "        row['gender'] = 'f'\n",
    "    else:\n",
    "        row['gender'] = 'm'\n",
    "    return row\n",
    "\n",
    "from datasets import Value\n",
    "# convert type to string\n",
    "ds = ds.cast_column('gender', Value(dtype='string'))\n",
    "print(ds['train'][0])\n",
    "ds = ds.map(map_gender, num_proc=24)\n",
    "\n"
   ]
  },
  {
   "cell_type": "code",
   "execution_count": 11,
   "metadata": {},
   "outputs": [
    {
     "data": {
      "application/vnd.jupyter.widget-view+json": {
       "model_id": "8c09540d97474c70b849fbe8fa352cf0",
       "version_major": 2,
       "version_minor": 0
      },
      "text/plain": [
       "Saving the dataset (0/24 shards):   0%|          | 0/1923 [00:00<?, ? examples/s]"
      ]
     },
     "metadata": {},
     "output_type": "display_data"
    },
    {
     "data": {
      "application/vnd.jupyter.widget-view+json": {
       "model_id": "14aba43d4b2d4d90b17848990f188b60",
       "version_major": 2,
       "version_minor": 0
      },
      "text/plain": [
       "Saving the dataset (0/24 shards):   0%|          | 0/251 [00:00<?, ? examples/s]"
      ]
     },
     "metadata": {},
     "output_type": "display_data"
    },
    {
     "data": {
      "application/vnd.jupyter.widget-view+json": {
       "model_id": "e9dee1484e814c9ba158aeae0bdc9ceb",
       "version_major": 2,
       "version_minor": 0
      },
      "text/plain": [
       "Saving the dataset (0/24 shards):   0%|          | 0/574 [00:00<?, ? examples/s]"
      ]
     },
     "metadata": {},
     "output_type": "display_data"
    }
   ],
   "source": [
    "ds.save_to_disk('/mnt/data/Speech Dataset/processed_datasets/fleurs_pa_ASR/', num_proc=24)"
   ]
  }
 ],
 "metadata": {
  "kernelspec": {
   "display_name": "hf2",
   "language": "python",
   "name": "python3"
  },
  "language_info": {
   "codemirror_mode": {
    "name": "ipython",
    "version": 3
   },
   "file_extension": ".py",
   "mimetype": "text/x-python",
   "name": "python",
   "nbconvert_exporter": "python",
   "pygments_lexer": "ipython3",
   "version": "3.12.1"
  }
 },
 "nbformat": 4,
 "nbformat_minor": 2
}
