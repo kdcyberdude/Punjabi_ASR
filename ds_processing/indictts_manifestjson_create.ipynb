{
 "cells": [
  {
   "cell_type": "code",
   "execution_count": 2,
   "metadata": {},
   "outputs": [
    {
     "name": "stdout",
     "output_type": "stream",
     "text": [
      "8036 6491\n",
      "[{'audio_filepath': 'indictts_ds/punjabi/male/test_punjabi_voice_0001.wav', 'duration': 8.971473922902494, 'text': 'ਅੰਗੂਰੀ ਮੇਰੇ ਗਵਾਂਢੀਆਂ ਦੇ ਗਵਾਂਢੀਆਂ ਦੇ ਗਵਾਂਢੀਆਂ ਦੇ ਘਰ ਉਹਨਾਂ ਦੇ ਬੜੇ ਪੁਰਾਣੇ ਨੌਕਰ ਦੀ ਬੜੀ ਨਵੀਂ ਬੀਵੀ ਹੈ'}, {'audio_filepath': 'indictts_ds/punjabi/male/test_punjabi_voice_0002.wav', 'duration': 10.071473922902495, 'text': 'ਇਕ ਤਾਂ ਨਵੀਂ ਇਸ ਗੱਲੋਂ ਕਿ ਉਹ ਆਪਣੇ ਖ਼ਾਵੰਦ ਦੀ ਦੂਸਰੀ ਬੀਵੀ ਹੈ ਸੋ ਉਸ ਦਾ ਖ਼ਾਵੰਦ ਦੁਹਾਜੂ ਹੋਇਆ'}, {'audio_filepath': 'indictts_ds/punjabi/male/test_punjabi_voice_0003.wav', 'duration': 7.7555555555555555, 'text': 'ਹੁਣ ਤੈਨੂੰ ਰੋਣ ਦੀ ਲੋੜ ਨਹੀਂ ਮੈਂ ਤੇਰੇ ਅੱਥਰੂਆਂ ਨਾਲ ਭਿੱਜਾ ਹੋਇਆ ਪਰਨਾ ਵੀ ਸੁਕਾ ਦਿੱਤਾ ਹੈ'}, {'audio_filepath': 'indictts_ds/punjabi/male/test_punjabi_voice_0004.wav', 'duration': 5.7877551020408164, 'text': 'ਇੰਜ ਪ੍ਰਭਾਤੀ ਦਾ ਇਸ ਅੰਗੂਰੀ ਨਾਲ ਦੂਸਰਾ ਵਿਆਹ ਹੋ ਗਿਆ ਸੀ'}, {'audio_filepath': 'indictts_ds/punjabi/male/test_punjabi_voice_0005.wav', 'duration': 14.488480725623583, 'text': 'ਪਰ ਇਕ ਤਾਂ ਅੰਗੂਰੀ ਅਜੇ ਉਮਰ ਦੀ ਛੋਟੀ ਸੀ ਤੇ ਦੂਸਰਾ ਅੰਗੂਰੀ ਦੀ ਮਾਂ ਜੂੜੀ ਦੇ ਰੋਗ ਨਾਲ ਬੱਝੀ ਹੋਈ ਸੀ ਇਸ ਲਈ ਮੁਕਲਾਵੇ ਵਾਲੀ ਗੱਲ ਪੰਜਾਂ ਵਰ੍ਹਿਆਂ ਉਤੇ ਪੈ ਗਈ'}]\n"
     ]
    }
   ],
   "source": [
    "import pandas as pd\n",
    "import librosa\n",
    "\n",
    "female_dir ='/mnt/sea/speech/indictts_ds/punjabi/female/'\n",
    "male_dir = '/mnt/sea/speech/indictts_ds/punjabi/male'\n",
    "\n",
    "import os\n",
    "import json\n",
    "\n",
    "def get_duration(file_path):\n",
    "    y, sr = librosa.load(file_path)\n",
    "    duration = librosa.get_duration(y=y, sr=sr)\n",
    "    return duration\n",
    "\n",
    "def get_text(file_path):\n",
    "    with open(file_path, 'r') as f:\n",
    "        text = f.read().strip()\n",
    "    return text\n",
    "\n",
    "def get_audio_files(dir_path):\n",
    "    audio_files = []\n",
    "    for root, dirs, files in os.walk(dir_path):\n",
    "        for file in files:\n",
    "            if file.endswith('.wav'):\n",
    "                audio_files.append(os.path.join(root, file))\n",
    "    return audio_files\n",
    "\n",
    "def get_text_files(dir_path):\n",
    "    text_files = []\n",
    "    for root, dirs, files in os.walk(dir_path):\n",
    "        for file in files:\n",
    "            if file.endswith('.lab'):\n",
    "                text_files.append(os.path.join(root, file))\n",
    "    return text_files\n",
    "\n",
    "def get_data(audio_files, text_files):\n",
    "    data = []\n",
    "    for audio_file in audio_files:\n",
    "        text_file = audio_file.replace('.wav', '.lab')\n",
    "        if text_file in text_files:\n",
    "            duration = get_duration(audio_file)\n",
    "            text = get_text(text_file)\n",
    "            # remove '/mnt/sea/speech/' from audio_file path\n",
    "            audio_file = audio_file.replace('/mnt/sea/speech/', '')\n",
    "            data.append({\"audio_filepath\": audio_file, \"duration\": duration, \"text\": text})\n",
    "    return data\n",
    "\n",
    "male_data = get_data(get_audio_files(male_dir), get_text_files(male_dir))\n",
    "female_data = get_data(get_audio_files(female_dir), get_text_files(female_dir))\n",
    "\n",
    "print(len(male_data), len(female_data))\n",
    "print(male_data[:5])\n"
   ]
  },
  {
   "cell_type": "code",
   "execution_count": 3,
   "metadata": {},
   "outputs": [],
   "source": [
    "all = male_data + female_data"
   ]
  },
  {
   "cell_type": "code",
   "execution_count": 4,
   "metadata": {},
   "outputs": [],
   "source": [
    "# save data as jsonl \n",
    "with open('/mnt/sea/speech/indictts_ds/punjabi/manifest.json', 'w') as f:\n",
    "    for line in all:\n",
    "        f.write(json.dumps(line) + '\\n')"
   ]
  }
 ],
 "metadata": {
  "kernelspec": {
   "display_name": "hf2",
   "language": "python",
   "name": "python3"
  },
  "language_info": {
   "codemirror_mode": {
    "name": "ipython",
    "version": 3
   },
   "file_extension": ".py",
   "mimetype": "text/x-python",
   "name": "python",
   "nbconvert_exporter": "python",
   "pygments_lexer": "ipython3",
   "version": "3.12.0"
  }
 },
 "nbformat": 4,
 "nbformat_minor": 2
}
