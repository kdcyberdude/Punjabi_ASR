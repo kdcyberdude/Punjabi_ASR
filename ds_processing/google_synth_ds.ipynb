{
 "cells": [
  {
   "cell_type": "code",
   "execution_count": 1,
   "metadata": {},
   "outputs": [
    {
     "name": "stdout",
     "output_type": "stream",
     "text": [
      "(39993, 2)\n"
     ]
    }
   ],
   "source": [
    "import os\n",
    "import re\n",
    "from pydub import AudioSegment\n",
    "import pandas as pd\n",
    "import pylab as plt\n",
    "import random\n",
    "from tqdm import tqdm\n",
    "from datasets import Dataset, DatasetDict\n",
    "\n",
    "base_dir = '/mnt/data/Speech Dataset/GoogleSynth/Google-synth/'\n",
    "clips = f'{base_dir}clips/'\n",
    "\n",
    "g_df = pd.read_csv(f'{base_dir}train.tsv', header=None, sep='\\t', names=['audio', 'text'])\n",
    "\n",
    "print(g_df.shape)\n",
    "\n",
    "def random_cutter(dur):\n",
    "    if random.random() < 0.15:\n",
    "        return dur > 30 * (random.random()*0.95+0.05)\n",
    "    else:\n",
    "        return dur > 30\n",
    "    \n"
   ]
  },
  {
   "cell_type": "code",
   "execution_count": 2,
   "metadata": {},
   "outputs": [
    {
     "data": {
      "text/html": [
       "<div>\n",
       "<style scoped>\n",
       "    .dataframe tbody tr th:only-of-type {\n",
       "        vertical-align: middle;\n",
       "    }\n",
       "\n",
       "    .dataframe tbody tr th {\n",
       "        vertical-align: top;\n",
       "    }\n",
       "\n",
       "    .dataframe thead th {\n",
       "        text-align: right;\n",
       "    }\n",
       "</style>\n",
       "<table border=\"1\" class=\"dataframe\">\n",
       "  <thead>\n",
       "    <tr style=\"text-align: right;\">\n",
       "      <th></th>\n",
       "      <th>audio</th>\n",
       "      <th>text</th>\n",
       "    </tr>\n",
       "  </thead>\n",
       "  <tbody>\n",
       "    <tr>\n",
       "      <th>0</th>\n",
       "      <td>1</td>\n",
       "      <td>ਨਾ ਹੀ ਸੌਂ ਸਕਦਾ</td>\n",
       "    </tr>\n",
       "    <tr>\n",
       "      <th>1</th>\n",
       "      <td>2</td>\n",
       "      <td>ਸ਼ਮਸ਼ੇਰ ਸਿੰਘ ਸੰਧੂ</td>\n",
       "    </tr>\n",
       "    <tr>\n",
       "      <th>2</th>\n",
       "      <td>3</td>\n",
       "      <td>ਧੋਖੇਬਾਜ਼ ਅਦਾਵਾਂ</td>\n",
       "    </tr>\n",
       "    <tr>\n",
       "      <th>3</th>\n",
       "      <td>4</td>\n",
       "      <td>ਮੈਨੂੰ ਛੱਡ ਅਵੋ</td>\n",
       "    </tr>\n",
       "    <tr>\n",
       "      <th>4</th>\n",
       "      <td>5</td>\n",
       "      <td>ਹੌਲੀ ਹੱਸਿਆ ਕਰ</td>\n",
       "    </tr>\n",
       "  </tbody>\n",
       "</table>\n",
       "</div>"
      ],
      "text/plain": [
       "   audio             text\n",
       "0      1   ਨਾ ਹੀ ਸੌਂ ਸਕਦਾ\n",
       "1      2  ਸ਼ਮਸ਼ੇਰ ਸਿੰਘ ਸੰਧੂ\n",
       "2      3   ਧੋਖੇਬਾਜ਼ ਅਦਾਵਾਂ\n",
       "3      4   ਮੈਨੂੰ ਛੱਡ ਅਵੋ \n",
       "4      5    ਹੌਲੀ ਹੱਸਿਆ ਕਰ"
      ]
     },
     "execution_count": 2,
     "metadata": {},
     "output_type": "execute_result"
    }
   ],
   "source": [
    "g_df.head()"
   ]
  },
  {
   "cell_type": "code",
   "execution_count": 3,
   "metadata": {},
   "outputs": [
    {
     "name": "stdout",
     "output_type": "stream",
     "text": [
      "{\"0\":\"\\/mnt\\/data\\/Speech Dataset\\/GoogleSynth\\/Google-synth\\/clips\\/1.wav\"}\n"
     ]
    }
   ],
   "source": [
    "g_df['audio'] = g_df['audio'].apply(lambda x: str(x).strip() + '.wav')\n",
    "g_df['audio'] = clips + g_df['audio']\n",
    "print(f'{g_df.head(1)['audio'].to_json()}')"
   ]
  },
  {
   "cell_type": "code",
   "execution_count": 4,
   "metadata": {},
   "outputs": [
    {
     "name": "stderr",
     "output_type": "stream",
     "text": [
      "Processing segments: 100%|██████████| 39993/39993 [03:19<00:00, 200.86it/s]\n"
     ]
    },
    {
     "data": {
      "text/html": [
       "<div>\n",
       "<style scoped>\n",
       "    .dataframe tbody tr th:only-of-type {\n",
       "        vertical-align: middle;\n",
       "    }\n",
       "\n",
       "    .dataframe tbody tr th {\n",
       "        vertical-align: top;\n",
       "    }\n",
       "\n",
       "    .dataframe thead th {\n",
       "        text-align: right;\n",
       "    }\n",
       "</style>\n",
       "<table border=\"1\" class=\"dataframe\">\n",
       "  <thead>\n",
       "    <tr style=\"text-align: right;\">\n",
       "      <th></th>\n",
       "      <th>audio</th>\n",
       "      <th>text</th>\n",
       "      <th>duration</th>\n",
       "    </tr>\n",
       "  </thead>\n",
       "  <tbody>\n",
       "    <tr>\n",
       "      <th>0</th>\n",
       "      <td>/mnt/data/Speech Dataset/GoogleSynth/Google-sy...</td>\n",
       "      <td>ਨਾ ਹੀ ਸੌਂ ਸਕਦਾ ਸ਼ਮਸ਼ੇਰ ਸਿੰਘ ਸੰਧੂ ਧੋਖੇਬਾਜ਼ ਅਦਾਵਾਂ ...</td>\n",
       "      <td>16.05</td>\n",
       "    </tr>\n",
       "    <tr>\n",
       "      <th>12</th>\n",
       "      <td>/mnt/data/Speech Dataset/GoogleSynth/Google-sy...</td>\n",
       "      <td>ਹੈਲਥ ਕਾਰਡ ਨੰਬਰ ਦਿਲ ਥਾਵੇਂ ਆ ਗਏ ਸਮਾਂ ਬੀਤਦਾ ਗਿਆ ਭ...</td>\n",
       "      <td>13.90</td>\n",
       "    </tr>\n",
       "  </tbody>\n",
       "</table>\n",
       "</div>"
      ],
      "text/plain": [
       "                                                audio  \\\n",
       "0   /mnt/data/Speech Dataset/GoogleSynth/Google-sy...   \n",
       "12  /mnt/data/Speech Dataset/GoogleSynth/Google-sy...   \n",
       "\n",
       "                                                 text  duration  \n",
       "0   ਨਾ ਹੀ ਸੌਂ ਸਕਦਾ ਸ਼ਮਸ਼ੇਰ ਸਿੰਘ ਸੰਧੂ ਧੋਖੇਬਾਜ਼ ਅਦਾਵਾਂ ...     16.05  \n",
       "12  ਹੈਲਥ ਕਾਰਡ ਨੰਬਰ ਦਿਲ ਥਾਵੇਂ ਆ ਗਏ ਸਮਾਂ ਬੀਤਦਾ ਗਿਆ ਭ...     13.90  "
      ]
     },
     "execution_count": 4,
     "metadata": {},
     "output_type": "execute_result"
    }
   ],
   "source": [
    "def chunk_merger(args):\n",
    "    \"\"\"\n",
    "    Adapted chunk_merger to use with DataFrame and duration, optimized for multiprocessing.\n",
    "    \"\"\"\n",
    "    df, expanded_clips_path = args\n",
    "\n",
    "    result = []\n",
    "    expanding_row = None\n",
    "    expanding_audio = None\n",
    "\n",
    "    for index, row in tqdm(df.iterrows(), total=len(df), desc='Processing segments'):\n",
    "        audio_path = os.path.join(row[\"audio\"])\n",
    "        audio = AudioSegment.from_file(audio_path)\n",
    "        duration = audio.duration_seconds\n",
    "\n",
    "        text = row['text'].strip()\n",
    "\n",
    "        if expanding_row is None:\n",
    "            expanding_row = row\n",
    "            expanding_audio = audio\n",
    "        elif random_cutter(expanding_audio.duration_seconds + duration):\n",
    "            output_file_path = os.path.join(expanded_clips_path, f'{os.path.basename(audio_path)}.wav')\n",
    "            expanding_audio.export(output_file_path, format='wav')\n",
    "            expanding_row['duration'] = expanding_audio.duration_seconds\n",
    "            expanding_row['audio'] = output_file_path\n",
    "            result.append(expanding_row)\n",
    "            expanding_row = row\n",
    "            expanding_audio = audio\n",
    "        else:\n",
    "            expanding_row['text'] += ' ' + text\n",
    "            expanding_audio += audio\n",
    "\n",
    "    if expanding_row is not None and expanding_audio is not None:\n",
    "        output_file_path = os.path.join(expanded_clips_path, f'{os.path.basename(expanding_row[\"audio\"])}.wav')\n",
    "        expanding_audio.export(output_file_path, format='wav')\n",
    "        expanding_row['duration'] = expanding_audio.duration_seconds\n",
    "        expanding_row['audio'] = output_file_path\n",
    "        result.append(expanding_row)\n",
    "\n",
    "    return result\n",
    "\n",
    "expanded_path_google = f'{base_dir}expanded_clips/'\n",
    "\n",
    "os.makedirs(expanded_path_google, exist_ok=True)\n",
    "\n",
    "result_google = chunk_merger((g_df, expanded_path_google))\n",
    "df = pd.DataFrame(result_google)\n",
    "df.head(2)"
   ]
  },
  {
   "cell_type": "code",
   "execution_count": 5,
   "metadata": {},
   "outputs": [
    {
     "data": {
      "text/plain": [
       "(array([ 118.,  187.,  248.,  290.,  335.,  363.,  395.,  371.,  413.,\n",
       "        1869.]),\n",
       " array([ 1.545 ,  4.3905,  7.236 , 10.0815, 12.927 , 15.7725, 18.618 ,\n",
       "        21.4635, 24.309 , 27.1545, 30.    ]),\n",
       " <BarContainer object of 10 artists>)"
      ]
     },
     "execution_count": 5,
     "metadata": {},
     "output_type": "execute_result"
    },
    {
     "data": {
      "image/png": "[encoded data removed]",
      "text/plain": [
       "<Figure size 640x480 with 1 Axes>"
      ]
     },
     "metadata": {},
     "output_type": "display_data"
    }
   ],
   "source": [
    "import pylab as plt\n",
    "plt.hist(df['duration'])"
   ]
  },
  {
   "cell_type": "code",
   "execution_count": 6,
   "metadata": {},
   "outputs": [
    {
     "name": "stdout",
     "output_type": "stream",
     "text": [
      "['/mnt/data/Speech Dataset/GoogleSynth/Google-synth/clips/45001.wav', '/mnt/data/Speech Dataset/GoogleSynth/Google-synth/clips/45002.wav']\n",
      "DatasetDict({\n",
      "    train: Dataset({\n",
      "        features: ['audio', 'text', 'duration', 'speaker_id', 'gender'],\n",
      "        num_rows: 4589\n",
      "    })\n",
      "    test: Dataset({\n",
      "        features: ['audio', 'text', 'duration', 'speaker_id', 'gender'],\n",
      "        num_rows: 5000\n",
      "    })\n",
      "    valid: Dataset({\n",
      "        features: ['audio', 'text', 'duration', 'speaker_id', 'gender'],\n",
      "        num_rows: 4999\n",
      "    })\n",
      "})\n",
      "{'audio': {'path': '/mnt/data/Speech Dataset/GoogleSynth/Google-synth/expanded_clips/13.wav.wav', 'array': array([ 0.00068803, -0.00057511, -0.00119219, ...,  0.        ,\n",
      "        0.        ,  0.        ]), 'sampling_rate': 16000}, 'text': 'ਨਾ ਹੀ ਸੌਂ ਸਕਦਾ ਸ਼ਮਸ਼ੇਰ ਸਿੰਘ ਸੰਧੂ ਧੋਖੇਬਾਜ਼ ਅਦਾਵਾਂ ਮੈਨੂੰ ਛੱਡ ਅਵੋ ਹੌਲੀ ਹੱਸਿਆ ਕਰ ਤੂੰ ਠੀਕ ਸਮਝਿਐਂ ਛਡੇ ਪੰਜ ਜੈਕਾਰੇ ਕੁੱਝ ਗਲਤਫਹਿਮੀਆਂ ਗੁਰੂ ਅਮਰਦਾਸ ਜੀ ਡਾ ਹਰਸ਼ਿੰਦਰ ਕੌਰ ਕੁੱਝ ਖ਼ਾਸ ਫਾਇਦੇ ਜਾਣਿਆ ਜਾਂਦਾ ਹੈ', 'duration': 16.05, 'speaker_id': None, 'gender': None}\n",
      "{'audio': {'path': '/mnt/data/Speech Dataset/GoogleSynth/Google-synth/clips/40001.wav', 'array': array([ 0.00071403, -0.00053223, -0.00112406, ...,  0.        ,\n",
      "        0.        ,  0.        ]), 'sampling_rate': 16000}, 'text': 'ਯੂਬਾ ਸਿਟੀ ਦੇ ਰਹਿਣ ਵਾਲੇ ਜੌਨ੍ਹੀ ਗਿੱਲ ਨੇ ਪਹਿਲੀ ਕਬੱਡੀ ਪਾਈ', 'duration': 3.35, 'speaker_id': None, 'gender': None}\n"
     ]
    }
   ],
   "source": [
    "\n",
    "df = df.assign(speaker_id=None)\n",
    "df = df.assign(gender=None)\n",
    "\n",
    "g_test = pd.read_csv(f'{base_dir}test.tsv', header=None, sep='\\t', names=['audio', 'text'])\n",
    "g_valid = pd.read_csv(f'{base_dir}dev.tsv', header=None, sep='\\t', names=['audio', 'text'])\n",
    "\n",
    "g_test['audio'] = g_test['audio'].apply(lambda x: str(x).strip() + '.wav')\n",
    "g_valid['audio'] = g_valid['audio'].apply(lambda x: str(x).strip() + '.wav')\n",
    "g_test['audio'] = clips + g_test['audio']\n",
    "g_valid['audio'] = clips + g_valid['audio']\n",
    "\n",
    "print(g_test.head(2)['audio'].to_list())\n",
    "\n",
    "g_test = g_test.reset_index(drop=True)\n",
    "g_valid = g_valid.reset_index(drop=True)\n",
    "\n",
    "g_test['duration'] = g_test['audio'].apply(lambda x: AudioSegment.from_file(x).duration_seconds)\n",
    "g_valid['duration'] = g_valid['audio'].apply(lambda x: AudioSegment.from_file(x).duration_seconds)\n",
    "\n",
    "# add two new columns i.e speaker_id and gender\n",
    "g_test = g_test.assign(speaker_id=None)\n",
    "g_test = g_test.assign(gender=None)\n",
    "g_valid = g_valid.assign(speaker_id=None)\n",
    "g_valid = g_valid.assign(gender=None)\n",
    "\n",
    "\n",
    "from datasets import DatasetDict, Dataset, Audio\n",
    "\n",
    "ds = DatasetDict({'train': Dataset.from_pandas(df.reset_index(drop=True)), 'test': Dataset.from_pandas(g_test), 'valid': Dataset.from_pandas(g_valid)})\n",
    "\n",
    "ds = ds.cast_column('audio', Audio(sampling_rate = 16000))\n",
    "\n",
    "print(ds)\n",
    "print(ds['train'][0])\n",
    "print(ds['valid'][0])\n",
    "\n",
    "\n"
   ]
  },
  {
   "cell_type": "code",
   "execution_count": 8,
   "metadata": {},
   "outputs": [
    {
     "data": {
      "application/vnd.jupyter.widget-view+json": {
       "model_id": "b04194bcfd904a369058347f1cc009e7",
       "version_major": 2,
       "version_minor": 0
      },
      "text/plain": [
       "Saving the dataset (0/24 shards):   0%|          | 0/4589 [00:00<?, ? examples/s]"
      ]
     },
     "metadata": {},
     "output_type": "display_data"
    },
    {
     "data": {
      "application/vnd.jupyter.widget-view+json": {
       "model_id": "92851f3a8e3e473db42acaafbe93f6e5",
       "version_major": 2,
       "version_minor": 0
      },
      "text/plain": [
       "Saving the dataset (0/24 shards):   0%|          | 0/5000 [00:00<?, ? examples/s]"
      ]
     },
     "metadata": {},
     "output_type": "display_data"
    },
    {
     "data": {
      "application/vnd.jupyter.widget-view+json": {
       "model_id": "9f2ee4570b8442b5b13f2866006b89f3",
       "version_major": 2,
       "version_minor": 0
      },
      "text/plain": [
       "Saving the dataset (0/24 shards):   0%|          | 0/4999 [00:00<?, ? examples/s]"
      ]
     },
     "metadata": {},
     "output_type": "display_data"
    }
   ],
   "source": [
    "ds.save_to_disk('/mnt/data/Speech Dataset/processed_datasets/Google_Synth_ASR/', num_proc=24)"
   ]
  },
  {
   "cell_type": "code",
   "execution_count": null,
   "metadata": {},
   "outputs": [],
   "source": []
  }
 ],
 "metadata": {
  "kernelspec": {
   "display_name": "hf2",
   "language": "python",
   "name": "python3"
  },
  "language_info": {
   "codemirror_mode": {
    "name": "ipython",
    "version": 3
   },
   "file_extension": ".py",
   "mimetype": "text/x-python",
   "name": "python",
   "nbconvert_exporter": "python",
   "pygments_lexer": "ipython3",
   "version": "3.12.1"
  }
 },
 "nbformat": 4,
 "nbformat_minor": 2
}
