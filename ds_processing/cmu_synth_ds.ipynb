{
 "cells": [
  {
   "cell_type": "code",
   "execution_count": 1,
   "metadata": {},
   "outputs": [
    {
     "name": "stdout",
     "output_type": "stream",
     "text": [
      "(63768, 2)\n"
     ]
    },
    {
     "data": {
      "text/html": [
       "<div>\n",
       "<style scoped>\n",
       "    .dataframe tbody tr th:only-of-type {\n",
       "        vertical-align: middle;\n",
       "    }\n",
       "\n",
       "    .dataframe tbody tr th {\n",
       "        vertical-align: top;\n",
       "    }\n",
       "\n",
       "    .dataframe thead th {\n",
       "        text-align: right;\n",
       "    }\n",
       "</style>\n",
       "<table border=\"1\" class=\"dataframe\">\n",
       "  <thead>\n",
       "    <tr style=\"text-align: right;\">\n",
       "      <th></th>\n",
       "      <th>audio</th>\n",
       "      <th>text</th>\n",
       "    </tr>\n",
       "  </thead>\n",
       "  <tbody>\n",
       "    <tr>\n",
       "      <th>0</th>\n",
       "      <td>50001</td>\n",
       "      <td>ਪਲੇਟ ਵਿਚ ਲੋੜ ਤੋਂ ਘੱਟ ਭੋਜਨ ਪਾਓ ਭੁੱਖ ਬਾਕੀ ਰੱਖ ਕੇ...</td>\n",
       "    </tr>\n",
       "    <tr>\n",
       "      <th>1</th>\n",
       "      <td>50002</td>\n",
       "      <td>ਘਰ ਦੇ ਮੋਢੀ ਨੂੰ ਪਰ੍ਹਿਆਂ ਪਚੈਤਾਂ ਵਿੱਚ ਬੁਲਾ ਕੇ ਖੱਜ...</td>\n",
       "    </tr>\n",
       "    <tr>\n",
       "      <th>2</th>\n",
       "      <td>50003</td>\n",
       "      <td>ਮਾੜੀ ਗਲ ਇਹ ਕਿ ਇਨ੍ਹਾਂ ਦੀ ਬੋਲੀ ਸਮਝਣੀ ਆਮ ਇਨਸਾਨ ਦੇ...</td>\n",
       "    </tr>\n",
       "    <tr>\n",
       "      <th>3</th>\n",
       "      <td>50004</td>\n",
       "      <td>ਫਸਟ ਆਉਣ ਦਾ ਇਕ ਕਾਰਨ ਇਹ ਵੀ ਸੀ ਕਿ ਕੁਝ ਸੁਟਾਵੇ ਕੈਂਪ...</td>\n",
       "    </tr>\n",
       "    <tr>\n",
       "      <th>4</th>\n",
       "      <td>50005</td>\n",
       "      <td>ਉਹਦੇ ਪੈਰੀਂ ਦੌੜਨ ਵਾਲੇ ਬੂਟ ਸਨ ਤੇ ਉਹ ਕਿਸੇ ਮਸਤੀ ਚ ...</td>\n",
       "    </tr>\n",
       "  </tbody>\n",
       "</table>\n",
       "</div>"
      ],
      "text/plain": [
       "   audio                                               text\n",
       "0  50001  ਪਲੇਟ ਵਿਚ ਲੋੜ ਤੋਂ ਘੱਟ ਭੋਜਨ ਪਾਓ ਭੁੱਖ ਬਾਕੀ ਰੱਖ ਕੇ...\n",
       "1  50002  ਘਰ ਦੇ ਮੋਢੀ ਨੂੰ ਪਰ੍ਹਿਆਂ ਪਚੈਤਾਂ ਵਿੱਚ ਬੁਲਾ ਕੇ ਖੱਜ...\n",
       "2  50003  ਮਾੜੀ ਗਲ ਇਹ ਕਿ ਇਨ੍ਹਾਂ ਦੀ ਬੋਲੀ ਸਮਝਣੀ ਆਮ ਇਨਸਾਨ ਦੇ...\n",
       "3  50004  ਫਸਟ ਆਉਣ ਦਾ ਇਕ ਕਾਰਨ ਇਹ ਵੀ ਸੀ ਕਿ ਕੁਝ ਸੁਟਾਵੇ ਕੈਂਪ...\n",
       "4  50005  ਉਹਦੇ ਪੈਰੀਂ ਦੌੜਨ ਵਾਲੇ ਬੂਟ ਸਨ ਤੇ ਉਹ ਕਿਸੇ ਮਸਤੀ ਚ ..."
      ]
     },
     "execution_count": 1,
     "metadata": {},
     "output_type": "execute_result"
    }
   ],
   "source": [
    "import os\n",
    "import re\n",
    "from pydub import AudioSegment\n",
    "import pandas as pd\n",
    "import pylab as plt\n",
    "import random\n",
    "from tqdm import tqdm\n",
    "from datasets import Dataset, DatasetDict\n",
    "\n",
    "\n",
    "base_dir_cmu = '/mnt/data/Speech Dataset/CMUSynth/CMU-synth/'\n",
    "clips_cmu = f'{base_dir_cmu}clips/'\n",
    "\n",
    "c_df = pd.read_csv(f'{base_dir_cmu}train.tsv', header=None, sep='\\t', names=['audio', 'text'])\n",
    "\n",
    "print(c_df.shape)\n",
    "\n",
    "def random_cutter(dur):\n",
    "    if random.random() < 0.15:\n",
    "        return dur > 30 * (random.random()*0.95+0.05)\n",
    "    else:\n",
    "        return dur > 30\n",
    "    \n",
    "c_df.head()"
   ]
  },
  {
   "cell_type": "code",
   "execution_count": 2,
   "metadata": {},
   "outputs": [
    {
     "name": "stdout",
     "output_type": "stream",
     "text": [
      "{\"0\":\"\\/mnt\\/data\\/Speech Dataset\\/CMUSynth\\/CMU-synth\\/clips\\/50001.wav\"}\n"
     ]
    },
    {
     "name": "stderr",
     "output_type": "stream",
     "text": [
      "Processing segments: 100%|██████████| 63768/63768 [09:04<00:00, 117.13it/s] \n"
     ]
    },
    {
     "data": {
      "text/html": [
       "<div>\n",
       "<style scoped>\n",
       "    .dataframe tbody tr th:only-of-type {\n",
       "        vertical-align: middle;\n",
       "    }\n",
       "\n",
       "    .dataframe tbody tr th {\n",
       "        vertical-align: top;\n",
       "    }\n",
       "\n",
       "    .dataframe thead th {\n",
       "        text-align: right;\n",
       "    }\n",
       "</style>\n",
       "<table border=\"1\" class=\"dataframe\">\n",
       "  <thead>\n",
       "    <tr style=\"text-align: right;\">\n",
       "      <th></th>\n",
       "      <th>audio</th>\n",
       "      <th>text</th>\n",
       "      <th>duration</th>\n",
       "    </tr>\n",
       "  </thead>\n",
       "  <tbody>\n",
       "    <tr>\n",
       "      <th>0</th>\n",
       "      <td>/mnt/data/Speech Dataset/CMUSynth/CMU-synth/ex...</td>\n",
       "      <td>ਪਲੇਟ ਵਿਚ ਲੋੜ ਤੋਂ ਘੱਟ ਭੋਜਨ ਪਾਓ ਭੁੱਖ ਬਾਕੀ ਰੱਖ ਕੇ...</td>\n",
       "      <td>22.010</td>\n",
       "    </tr>\n",
       "    <tr>\n",
       "      <th>5</th>\n",
       "      <td>/mnt/data/Speech Dataset/CMUSynth/CMU-synth/ex...</td>\n",
       "      <td>ਸ੍ਰੀ ਮੁਸ਼ੱਰਫ ਅੱਜ ਕਲ੍ਹ ਜਲਾਵਤਨ ਹਨ ਅਤੇ ਦੇਸ਼ ਵਾਪਸੀ ਲ...</td>\n",
       "      <td>4.505</td>\n",
       "    </tr>\n",
       "  </tbody>\n",
       "</table>\n",
       "</div>"
      ],
      "text/plain": [
       "                                               audio  \\\n",
       "0  /mnt/data/Speech Dataset/CMUSynth/CMU-synth/ex...   \n",
       "5  /mnt/data/Speech Dataset/CMUSynth/CMU-synth/ex...   \n",
       "\n",
       "                                                text  duration  \n",
       "0  ਪਲੇਟ ਵਿਚ ਲੋੜ ਤੋਂ ਘੱਟ ਭੋਜਨ ਪਾਓ ਭੁੱਖ ਬਾਕੀ ਰੱਖ ਕੇ...    22.010  \n",
       "5  ਸ੍ਰੀ ਮੁਸ਼ੱਰਫ ਅੱਜ ਕਲ੍ਹ ਜਲਾਵਤਨ ਹਨ ਅਤੇ ਦੇਸ਼ ਵਾਪਸੀ ਲ...     4.505  "
      ]
     },
     "execution_count": 2,
     "metadata": {},
     "output_type": "execute_result"
    }
   ],
   "source": [
    "c_df['audio'] = c_df['audio'].apply(lambda x: str(x).strip() + '.wav')\n",
    "c_df['audio'] = clips_cmu + c_df['audio']\n",
    "print(f'{c_df.head(1)['audio'].to_json()}')\n",
    "\n",
    "\n",
    "def chunk_merger(args):\n",
    "    \"\"\"\n",
    "    Adapted chunk_merger to use with DataFrame and duration, optimized for multiprocessing.\n",
    "    \"\"\"\n",
    "    df, expanded_clips_path = args\n",
    "\n",
    "    result = []\n",
    "    expanding_row = None\n",
    "    expanding_audio = None\n",
    "\n",
    "    for index, row in tqdm(df.iterrows(), total=len(df), desc='Processing segments'):\n",
    "        audio_path = os.path.join(row[\"audio\"])\n",
    "        audio = AudioSegment.from_file(audio_path)\n",
    "        duration = audio.duration_seconds\n",
    "\n",
    "        text = row['text'].strip()\n",
    "\n",
    "        if expanding_row is None:\n",
    "            expanding_row = row\n",
    "            expanding_audio = audio\n",
    "        elif random_cutter(expanding_audio.duration_seconds + duration):\n",
    "            output_file_path = os.path.join(expanded_clips_path, f'{os.path.basename(audio_path)}.wav')\n",
    "            expanding_audio.export(output_file_path, format='wav')\n",
    "            expanding_row['duration'] = expanding_audio.duration_seconds\n",
    "            expanding_row['audio'] = output_file_path\n",
    "            result.append(expanding_row)\n",
    "            expanding_row = row\n",
    "            expanding_audio = audio\n",
    "        else:\n",
    "            expanding_row['text'] += ' ' + text\n",
    "            expanding_audio += audio\n",
    "\n",
    "    if expanding_row is not None and expanding_audio is not None:\n",
    "        output_file_path = os.path.join(expanded_clips_path, f'{os.path.basename(expanding_row[\"audio\"])}.wav')\n",
    "        expanding_audio.export(output_file_path, format='wav')\n",
    "        expanding_row['duration'] = expanding_audio.duration_seconds\n",
    "        expanding_row['audio'] = output_file_path\n",
    "        result.append(expanding_row)\n",
    "\n",
    "    return result\n",
    "\n",
    "expanded_path_cmu = f'{base_dir_cmu}expanded_clips/'\n",
    "\n",
    "os.makedirs(expanded_path_cmu, exist_ok=True)\n",
    "\n",
    "result_cmu = chunk_merger((c_df, expanded_path_cmu))\n",
    "df = pd.DataFrame(result_cmu)\n",
    "\n",
    "df.head(2)"
   ]
  },
  {
   "cell_type": "code",
   "execution_count": 3,
   "metadata": {},
   "outputs": [
    {
     "data": {
      "text/plain": [
       "(array([ 411.,  670.,  455.,  536.,  805.,  882.,  730., 3154., 5439.,\n",
       "        5097.]),\n",
       " array([ 4.12 ,  6.708,  9.296, 11.884, 14.472, 17.06 , 19.648, 22.236,\n",
       "        24.824, 27.412, 30.   ]),\n",
       " <BarContainer object of 10 artists>)"
      ]
     },
     "execution_count": 3,
     "metadata": {},
     "output_type": "execute_result"
    },
    {
     "data": {
      "image/png": "[encoded data removed]",
      "text/plain": [
       "<Figure size 640x480 with 1 Axes>"
      ]
     },
     "metadata": {},
     "output_type": "display_data"
    }
   ],
   "source": [
    "import pylab as plt\n",
    "plt.hist(df['duration'])"
   ]
  },
  {
   "cell_type": "code",
   "execution_count": 7,
   "metadata": {},
   "outputs": [
    {
     "name": "stdout",
     "output_type": "stream",
     "text": [
      "['/mnt/data/Speech Dataset/CMUSynth/CMU-synth/clips/121742.wav', '/mnt/data/Speech Dataset/CMUSynth/CMU-synth/clips/121743.wav']\n",
      "DatasetDict({\n",
      "    train: Dataset({\n",
      "        features: ['audio', 'text', 'duration', 'speaker_id', 'gender'],\n",
      "        num_rows: 18179\n",
      "    })\n",
      "    test: Dataset({\n",
      "        features: ['audio', 'text', 'duration', 'speaker_id', 'gender'],\n",
      "        num_rows: 7971\n",
      "    })\n",
      "    valid: Dataset({\n",
      "        features: ['audio', 'text', 'duration', 'speaker_id', 'gender'],\n",
      "        num_rows: 7971\n",
      "    })\n",
      "})\n",
      "{'audio': {'path': '/mnt/data/Speech Dataset/CMUSynth/CMU-synth/expanded_clips/50006.wav', 'array': array([ 0.        ,  0.        ,  0.        , ...,  0.00067139,\n",
      "        0.00061035, -0.00088501]), 'sampling_rate': 16000}, 'text': 'ਪਲੇਟ ਵਿਚ ਲੋੜ ਤੋਂ ਘੱਟ ਭੋਜਨ ਪਾਓ ਭੁੱਖ ਬਾਕੀ ਰੱਖ ਕੇ ਹੀ ਭੋਜਨ ਲਵੋ ਘਰ ਦੇ ਮੋਢੀ ਨੂੰ ਪਰ੍ਹਿਆਂ ਪਚੈਤਾਂ ਵਿੱਚ ਬੁਲਾ ਕੇ ਖੱਜਲ ਕੀਤਾ ਜਾਂਦਾ ਹੈ ਮਾੜੀ ਗਲ ਇਹ ਕਿ ਇਨ੍ਹਾਂ ਦੀ ਬੋਲੀ ਸਮਝਣੀ ਆਮ ਇਨਸਾਨ ਦੇ ਵਸ ਨਹੀਂ ਹੁੰਦੀ ਫਸਟ ਆਉਣ ਦਾ ਇਕ ਕਾਰਨ ਇਹ ਵੀ ਸੀ ਕਿ ਕੁਝ ਸੁਟਾਵੇ ਕੈਂਪ ਵਿਚ ਨਹੀਂ ਸੀ ਆਏ ਉਹਦੇ ਪੈਰੀਂ ਦੌੜਨ ਵਾਲੇ ਬੂਟ ਸਨ ਤੇ ਉਹ ਕਿਸੇ ਮਸਤੀ ਚ ਮਖ਼ਮੂਰ ਲੱਗਦਾ ਸੀ', 'duration': 22.01, 'speaker_id': None, 'gender': None}\n",
      "{'audio': {'path': '/mnt/data/Speech Dataset/CMUSynth/CMU-synth/clips/113771.wav', 'array': array([ 0.        ,  0.        ,  0.        , ...,  0.00024414,\n",
      "       -0.00170898, -0.00253296]), 'sampling_rate': 16000}, 'text': 'ਉਂਗਲਾਂ ਵਿਚ ਪਾਏ ਹੋਏ ਪੱਥਰ ਹਿੰਦੂਤਵ ਨੂੰ ਚਾਰ ਚੰਨ ਲਾ ਰਹੇ ਹਨ ਜੋ ਕਿ ਪਹਿਲਾਂ ਕਦੇ ਕਿਸੇ ਸ਼੍ਰੋਮਣੀ ਅਕਾਲੀ ਦਲ ਦੇ ਪ੍ਰਧਾਨ ਦੀਆਂ ਉਂਗਲਾਂ ਦਾ ਸ਼ਿੰਗਾਰ ਬਣੇ ਨਹੀਂ ਸਨ ਵੇਖੇ ', 'duration': 9.56, 'speaker_id': None, 'gender': None}\n"
     ]
    }
   ],
   "source": [
    "# add two new columns i.e speaker_id and gender\n",
    "# init with None\n",
    "df = df.assign(speaker_id=None)\n",
    "df = df.assign(gender=None)\n",
    "\n",
    "cmu_test = pd.read_csv(f'{base_dir_cmu}test.tsv', header=None, sep='\\t', names=['audio', 'text'])\n",
    "cmu_valid = pd.read_csv(f'{base_dir_cmu}dev.tsv', header=None, sep='\\t', names=['audio', 'text'])\n",
    "\n",
    "cmu_test['audio'] = cmu_test['audio'].apply(lambda x: str(x).strip() + '.wav')\n",
    "cmu_valid['audio'] = cmu_valid['audio'].apply(lambda x: str(x).strip() + '.wav')\n",
    "cmu_test['audio'] = clips_cmu + cmu_test['audio']\n",
    "cmu_valid['audio'] = clips_cmu + cmu_valid['audio']\n",
    "\n",
    "print(cmu_test.head(2)['audio'].to_list())\n",
    "\n",
    "cmu_test = cmu_test.reset_index(drop=True)\n",
    "cmu_valid = cmu_valid.reset_index(drop=True)\n",
    "\n",
    "cmu_test['duration'] = cmu_test['audio'].apply(lambda x: AudioSegment.from_file(x).duration_seconds)\n",
    "cmu_valid['duration'] = cmu_valid['audio'].apply(lambda x: AudioSegment.from_file(x).duration_seconds)\n",
    "\n",
    "cmu_test = cmu_test.assign(speaker_id=None)\n",
    "cmu_test = cmu_test.assign(gender=None)\n",
    "cmu_valid = cmu_valid.assign(speaker_id=None)\n",
    "cmu_valid = cmu_valid.assign(gender=None)\n",
    "\n",
    "from datasets import DatasetDict, Dataset, Audio\n",
    "\n",
    "\n",
    "ds_cmu = DatasetDict({'train': Dataset.from_pandas(df.reset_index(drop=True)), 'test': Dataset.from_pandas(cmu_test), 'valid': Dataset.from_pandas(cmu_valid)})\n",
    "\n",
    "\n",
    "ds_cmu = ds_cmu.cast_column('audio', Audio(sampling_rate = 16000))\n",
    "ds_cmu = ds_cmu.cast_column('audio', Audio(sampling_rate = 16000))\n",
    "\n",
    "\n",
    "print(ds_cmu)\n",
    "print(ds_cmu['train'][0])\n",
    "print(ds_cmu['valid'][0])\n"
   ]
  },
  {
   "cell_type": "code",
   "execution_count": 8,
   "metadata": {},
   "outputs": [
    {
     "data": {
      "application/vnd.jupyter.widget-view+json": {
       "model_id": "dde7fe909e874fd48bb6f3b6e2b7c92d",
       "version_major": 2,
       "version_minor": 0
      },
      "text/plain": [
       "Saving the dataset (0/28 shards):   0%|          | 0/18179 [00:00<?, ? examples/s]"
      ]
     },
     "metadata": {},
     "output_type": "display_data"
    },
    {
     "data": {
      "application/vnd.jupyter.widget-view+json": {
       "model_id": "d67503bf7e7a4c6e94a9ea8bbcc01ab0",
       "version_major": 2,
       "version_minor": 0
      },
      "text/plain": [
       "Saving the dataset (0/24 shards):   0%|          | 0/7971 [00:00<?, ? examples/s]"
      ]
     },
     "metadata": {},
     "output_type": "display_data"
    },
    {
     "data": {
      "application/vnd.jupyter.widget-view+json": {
       "model_id": "7efd6fc22f8e424d9313b7cafc0ecf24",
       "version_major": 2,
       "version_minor": 0
      },
      "text/plain": [
       "Saving the dataset (0/24 shards):   0%|          | 0/7971 [00:00<?, ? examples/s]"
      ]
     },
     "metadata": {},
     "output_type": "display_data"
    }
   ],
   "source": [
    "ds_cmu.save_to_disk('/mnt/data/Speech Dataset/processed_datasets/CMU_Synth_ASR/', num_proc=24)"
   ]
  },
  {
   "cell_type": "code",
   "execution_count": null,
   "metadata": {},
   "outputs": [],
   "source": []
  },
  {
   "cell_type": "code",
   "execution_count": null,
   "metadata": {},
   "outputs": [],
   "source": []
  },
  {
   "cell_type": "code",
   "execution_count": null,
   "metadata": {},
   "outputs": [],
   "source": []
  }
 ],
 "metadata": {
  "kernelspec": {
   "display_name": "hf2",
   "language": "python",
   "name": "python3"
  },
  "language_info": {
   "codemirror_mode": {
    "name": "ipython",
    "version": 3
   },
   "file_extension": ".py",
   "mimetype": "text/x-python",
   "name": "python",
   "nbconvert_exporter": "python",
   "pygments_lexer": "ipython3",
   "version": "3.12.1"
  }
 },
 "nbformat": 4,
 "nbformat_minor": 2
}
