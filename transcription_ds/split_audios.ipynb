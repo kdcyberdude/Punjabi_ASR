{
 "cells": [
  {
   "cell_type": "code",
   "execution_count": null,
   "metadata": {},
   "outputs": [],
   "source": [
    "import sys\n",
    "sys.path.append('..')\n",
    "from utils import vad as vad\n",
    "import IPython.display as ipd\n",
    "import librosa\n",
    "import soundfile as sf\n",
    "from tqdm import tqdm\n",
    "import os\n",
    "import torch\n",
    "import time\n",
    "from concurrent.futures import ThreadPoolExecutor\n",
    "\n",
    "chunk_size = 11.5\n",
    "device = 'cuda'\n",
    "\n",
    "vad_params = {\n",
    "    \"vad_onset\": 0.500,\n",
    "    \"vad_offset\": 0.463\n",
    "}\n",
    "vad_model = vad.load_vad_model(torch.device(device), model_fp=\"pyannote/segmentation-3.0\", use_auth_token=True,)\n",
    "\n",
    "def vad_segments(audio: str):\n",
    "    audio, sr = librosa.load(audio, sr=None)\n",
    "    vad_segments = vad_model({\"waveform\": torch.from_numpy(audio).unsqueeze(0), \"sample_rate\": sr})\n",
    "    vad_segments = vad.merge_chunks(\n",
    "        vad_segments,\n",
    "        chunk_size,\n",
    "        onset=vad_params[\"vad_onset\"],\n",
    "        offset=vad_params[\"vad_offset\"],\n",
    "    )\n",
    "\n",
    "    return audio, sr, vad_segments\n",
    "\n",
    "\n",
    "# Root directory for WAV files and target directory for splits\n",
    "root_dir = '/mnt/sea/yt_wavs'\n",
    "target_root_dir = '/mnt/sea/yt_splits'\n",
    "\n",
    "def save_segment(segment_data):\n",
    "    id, target_dir, sr, audio, i, start_index, end_index = segment_data\n",
    "    segment_audio = audio[start_index:end_index]\n",
    "    segment_file_name = f'{id}__{i}__{start_index}-{end_index}__{sr}.wav'\n",
    "    target_file_path = os.path.join(target_dir, segment_file_name)\n",
    "    if not os.path.exists(target_file_path):\n",
    "        sf.write(target_file_path, segment_audio, sr)        \n",
    "\n",
    "for dirpath, dirnames, filenames in os.walk(root_dir):\n",
    "    for filename in tqdm(filenames):\n",
    "        if filename.endswith('.wav'):\n",
    "            full_path = os.path.join(dirpath, filename)\n",
    "            rel_path = os.path.relpath(dirpath, root_dir)\n",
    "            id = filename.split(' - ')[1]\n",
    "\n",
    "            audio, sr, segments = vad_segments(audio=full_path)\n",
    "\n",
    "            target_dir = os.path.join(target_root_dir, rel_path, id)\n",
    "            os.makedirs(target_dir, exist_ok=True)\n",
    "\n",
    "            index_ranges = [(int(seg['start'] * sr), int(seg['end'] * sr)) for seg in segments]\n",
    "            segment_data = [\n",
    "                (id, target_dir, sr, audio, i, start, end)\n",
    "                for i, (start, end) in enumerate(index_ranges)\n",
    "            ]\n",
    "            \n",
    "            # Using ThreadPoolExecutor to write files in parallel\n",
    "            with ThreadPoolExecutor(max_workers=30) as executor: \n",
    "                executor.map(save_segment, segment_data)\n"
   ]
  },
  {
   "cell_type": "code",
   "execution_count": null,
   "metadata": {},
   "outputs": [],
   "source": []
  },
  {
   "cell_type": "code",
   "execution_count": null,
   "metadata": {},
   "outputs": [],
   "source": []
  },
  {
   "cell_type": "code",
   "execution_count": null,
   "metadata": {},
   "outputs": [],
   "source": []
  },
  {
   "cell_type": "code",
   "execution_count": null,
   "metadata": {},
   "outputs": [],
   "source": []
  }
 ],
 "metadata": {
  "kernelspec": {
   "display_name": "ai4bharat",
   "language": "python",
   "name": "python3"
  },
  "language_info": {
   "codemirror_mode": {
    "name": "ipython",
    "version": 3
   },
   "file_extension": ".py",
   "mimetype": "text/x-python",
   "name": "python",
   "nbconvert_exporter": "python",
   "pygments_lexer": "ipython3",
   "version": "3.12.0"
  }
 },
 "nbformat": 4,
 "nbformat_minor": 2
}
