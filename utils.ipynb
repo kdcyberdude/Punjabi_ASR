{
 "cells": [
  {
   "cell_type": "markdown",
   "metadata": {},
   "source": [
    "## calculate number of files and total duration of all wav files in a directory\n"
   ]
  },
  {
   "cell_type": "code",
   "execution_count": null,
   "metadata": {},
   "outputs": [],
   "source": [
    "import os\n",
    "import librosa\n",
    "\n",
    "dir = '/mnt/sea/speech/benchmarks/vistaar/benchmarks/fleurs/punjabi/wavs'\n",
    "total_duration = 0\n",
    "total_files = 0\n",
    "for file in os.listdir(dir):\n",
    "    if file.endswith('.wav'):\n",
    "        total_files += 1\n",
    "        file_path = os.path.join(dir, file)\n",
    "        duration = librosa.get_duration(path=file_path)\n",
    "        total_duration += duration\n",
    "print(f'Total files: {total_files}')\n",
    "print(f'Total duration: {total_duration} seconds')\n",
    "print(f'Total duration: {total_duration/60} minutes')\n",
    "print(f'Total duration: {total_duration/3600} hours')\n"
   ]
  },
  {
   "cell_type": "markdown",
   "metadata": {},
   "source": [
    "## Download Audio using youtube link and convert it to wav file with mono channel and 16k sample rate with first 29 seconds of audio"
   ]
  },
  {
   "cell_type": "code",
   "execution_count": 5,
   "metadata": {},
   "outputs": [
    {
     "name": "stdout",
     "output_type": "stream",
     "text": [
      "Removing cache dir /home/kd/.cache/yt-dlp ...\n",
      "[youtube] Extracting URL: https://www.youtube.com/shorts/xQxG_hOUJHM\n",
      "[youtube] xQxG_hOUJHM: Downloading webpage\n",
      "[youtube] xQxG_hOUJHM: Downloading ios player API JSON\n",
      "[youtube] xQxG_hOUJHM: Downloading android player API JSON\n",
      "WARNING: [youtube] Skipping player responses from android clients (got player responses for video \"aQvGIIdgFDM\" instead of \"xQxG_hOUJHM\")\n",
      "[youtube] xQxG_hOUJHM: Downloading player 74a3a562\n",
      "[youtube] xQxG_hOUJHM: Downloading m3u8 information\n",
      "[info] xQxG_hOUJHM: Downloading 1 format(s): 251\n",
      "[download] Destination: download.webm\n",
      "[download]   0.1% of  789.99KiB at  Unknown B/s ETA Unknown\n",
      "Download progress: 0.1%\n",
      "[download]   0.4% of  789.99KiB at  Unknown B/s ETA Unknown\n",
      "Download progress: 0.4%\n",
      "[download]   0.9% of  789.99KiB at    6.57MiB/s ETA 00:00\n",
      "Download progress: 0.9%\n",
      "[download]   1.9% of  789.99KiB at   11.24MiB/s ETA 00:00\n",
      "Download progress: 1.9%\n",
      "[download]   3.9% of  789.99KiB at    7.23MiB/s ETA 00:00\n",
      "Download progress: 3.9%\n",
      "[download]   8.0% of  789.99KiB at   11.37MiB/s ETA 00:00\n",
      "Download progress: 8.0%\n",
      "[download]  16.1% of  789.99KiB at   15.38MiB/s ETA 00:00\n",
      "Download progress: 16.1%\n",
      "[download]  32.3% of  789.99KiB at   22.73MiB/s ETA 00:00\n",
      "Download progress: 32.3%\n",
      "[download]  64.7% of  789.99KiB at   33.38MiB/s ETA 00:00\n",
      "Download progress: 64.7%\n",
      "[download] 100.0% of  789.99KiB at   43.26MiB/s ETA 00:00\n",
      "Download progress: 100.0%\n",
      "[download] 100% of  789.99KiB in 00:00:00 at 5.38MiB/s\n",
      "Download progress: 100%\n",
      "Downloaded audio file: download.webm\n"
     ]
    },
    {
     "name": "stderr",
     "output_type": "stream",
     "text": [
      "ffmpeg version 4.4.2-0ubuntu0.22.04.1 Copyright (c) 2000-2021 the FFmpeg developers\n",
      "  built with gcc 11 (Ubuntu 11.2.0-19ubuntu1)\n",
      "  configuration: --prefix=/usr --extra-version=0ubuntu0.22.04.1 --toolchain=hardened --libdir=/usr/lib/x86_64-linux-gnu --incdir=/usr/include/x86_64-linux-gnu --arch=amd64 --enable-gpl --disable-stripping --enable-gnutls --enable-ladspa --enable-libaom --enable-libass --enable-libbluray --enable-libbs2b --enable-libcaca --enable-libcdio --enable-libcodec2 --enable-libdav1d --enable-libflite --enable-libfontconfig --enable-libfreetype --enable-libfribidi --enable-libgme --enable-libgsm --enable-libjack --enable-libmp3lame --enable-libmysofa --enable-libopenjpeg --enable-libopenmpt --enable-libopus --enable-libpulse --enable-librabbitmq --enable-librubberband --enable-libshine --enable-libsnappy --enable-libsoxr --enable-libspeex --enable-libsrt --enable-libssh --enable-libtheora --enable-libtwolame --enable-libvidstab --enable-libvorbis --enable-libvpx --enable-libwebp --enable-libx265 --enable-libxml2 --enable-libxvid --enable-libzimg --enable-libzmq --enable-libzvbi --enable-lv2 --enable-omx --enable-openal --enable-opencl --enable-opengl --enable-sdl2 --enable-pocketsphinx --enable-librsvg --enable-libmfx --enable-libdc1394 --enable-libdrm --enable-libiec61883 --enable-chromaprint --enable-frei0r --enable-libx264 --enable-shared\n",
      "  libavutil      56. 70.100 / 56. 70.100\n",
      "  libavcodec     58.134.100 / 58.134.100\n",
      "  libavformat    58. 76.100 / 58. 76.100\n",
      "  libavdevice    58. 13.100 / 58. 13.100\n",
      "  libavfilter     7.110.100 /  7.110.100\n",
      "  libswscale      5.  9.100 /  5.  9.100\n",
      "  libswresample   3.  9.100 /  3.  9.100\n",
      "  libpostproc    55.  9.100 / 55.  9.100\n",
      "Input #0, matroska,webm, from 'download.webm':\n",
      "  Metadata:\n",
      "    encoder         : google/video-file\n",
      "  Duration: 00:00:47.82, start: -0.007000, bitrate: 135 kb/s\n",
      "  Stream #0:0(eng): Audio: opus, 48000 Hz, stereo, fltp (default)\n",
      "Stream mapping:\n",
      "  Stream #0:0 -> #0:0 (opus (native) -> aac (native))\n",
      "Press [q] to stop, [?] for help\n",
      "Output #0, mp4, to 'example.mp4':\n",
      "  Metadata:\n",
      "    encoder         : Lavf58.76.100\n",
      "  Stream #0:0(eng): Audio: aac (LC) (mp4a / 0x6134706D), 16000 Hz, mono, fltp, 69 kb/s (default)\n",
      "    Metadata:\n",
      "      encoder         : Lavc58.134.100 aac\n",
      "size=     419kB time=00:00:47.75 bitrate=  71.8kbits/s speed= 273x    \n",
      "video:0kB audio:415kB subtitle:0kB other streams:0kB global headers:0kB muxing overhead: 0.896691%\n",
      "[aac @ 0x5b315cd385c0] Qavg: 1522.790\n"
     ]
    }
   ],
   "source": [
    "import os\n",
    "import subprocess\n",
    "import re\n",
    "\n",
    "# Replace this with the actual URL of the YouTube video\n",
    "url = \"https://www.youtube.com/shorts/xQxG_hOUJHM\"\n",
    "\n",
    "try:\n",
    "    os.remove('download.webm')\n",
    "except FileNotFoundError:\n",
    "    pass\n",
    "\n",
    "# Start the download process\n",
    "command = [\n",
    "    'yt-dlp', '--rm-cache-dir', '-f', 'bestaudio', '-ciw',\n",
    "    '-o', 'download.%(ext)s', '--no-continue', '--newline', url\n",
    "]\n",
    "process = subprocess.Popen(\n",
    "    command, stdout=subprocess.PIPE, stderr=subprocess.STDOUT, text=True\n",
    ")\n",
    "\n",
    "# Track the progress\n",
    "while True:\n",
    "    output = process.stdout.readline()\n",
    "    if output == '' and process.poll() is not None:\n",
    "        break\n",
    "    if output:\n",
    "        print(output.strip())\n",
    "        if \"download\" in output.lower():\n",
    "            progress_match = re.search(r'\\[download\\]\\s+(\\d+\\.?\\d*%)', output)\n",
    "            if progress_match:\n",
    "                print(f\"Download progress: {progress_match.group(1)}\")\n",
    "\n",
    "exit_code = process.poll()\n",
    "\n",
    "ext = 'webm'\n",
    "input_file = f'download.{ext}'\n",
    "output_file = 'example.wav'\n",
    "\n",
    "print(f\"Downloaded audio file: {input_file}\")\n",
    "add_time = False\n",
    "# Process the downloaded audio file with ffmpeg\n",
    "if add_time:\n",
    "    subprocess.run(['ffmpeg', '-y', '-i', input_file, '-ac', '1', '-ar', '16000', '-t', '29', output_file])\n",
    "else:\n",
    "    subprocess.run(['ffmpeg', '-y', '-i', input_file, '-ac', '1', '-ar', '16000', output_file])\n",
    "\n",
    "try:\n",
    "    os.remove('download.webm')\n",
    "except FileNotFoundError:\n",
    "    pass\n"
   ]
  },
  {
   "cell_type": "code",
   "execution_count": null,
   "metadata": {},
   "outputs": [],
   "source": []
  },
  {
   "cell_type": "code",
   "execution_count": null,
   "metadata": {},
   "outputs": [],
   "source": []
  },
  {
   "cell_type": "code",
   "execution_count": null,
   "metadata": {},
   "outputs": [],
   "source": []
  },
  {
   "cell_type": "code",
   "execution_count": null,
   "metadata": {},
   "outputs": [],
   "source": []
  },
  {
   "cell_type": "code",
   "execution_count": null,
   "metadata": {},
   "outputs": [],
   "source": []
  },
  {
   "cell_type": "code",
   "execution_count": null,
   "metadata": {},
   "outputs": [],
   "source": []
  }
 ],
 "metadata": {
  "kernelspec": {
   "display_name": "ai4bharat",
   "language": "python",
   "name": "python3"
  },
  "language_info": {
   "codemirror_mode": {
    "name": "ipython",
    "version": 3
   },
   "file_extension": ".py",
   "mimetype": "text/x-python",
   "name": "python",
   "nbconvert_exporter": "python",
   "pygments_lexer": "ipython3",
   "version": "3.12.0"
  }
 },
 "nbformat": 4,
 "nbformat_minor": 2
}
