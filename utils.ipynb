{
 "cells": [
  {
   "cell_type": "markdown",
   "metadata": {},
   "source": [
    "## calculate number of files and total duration of all wav files in a directory\n"
   ]
  },
  {
   "cell_type": "code",
   "execution_count": null,
   "metadata": {},
   "outputs": [],
   "source": [
    "import os\n",
    "import librosa\n",
    "\n",
    "dir = '/mnt/sea/speech/benchmarks/vistaar/benchmarks/fleurs/punjabi/wavs'\n",
    "total_duration = 0\n",
    "total_files = 0\n",
    "for file in os.listdir(dir):\n",
    "    if file.endswith('.wav'):\n",
    "        total_files += 1\n",
    "        file_path = os.path.join(dir, file)\n",
    "        duration = librosa.get_duration(path=file_path)\n",
    "        total_duration += duration\n",
    "print(f'Total files: {total_files}')\n",
    "print(f'Total duration: {total_duration} seconds')\n",
    "print(f'Total duration: {total_duration/60} minutes')\n",
    "print(f'Total duration: {total_duration/3600} hours')\n"
   ]
  },
  {
   "cell_type": "markdown",
   "metadata": {},
   "source": [
    "## Download Audio using youtube link and convert it to wav file with mono channel and 16k sample rate with first 29 seconds of audio"
   ]
  },
  {
   "cell_type": "code",
   "execution_count": 2,
   "metadata": {},
   "outputs": [
    {
     "name": "stdout",
     "output_type": "stream",
     "text": [
      "Removing cache dir /home/kd/.cache/yt-dlp ..\n",
      "[youtube] Extracting URL: https://www.youtube.com/shorts/ygko18pZtWQ\n",
      "[youtube] ygko18pZtWQ: Downloading webpage\n",
      "[youtube] ygko18pZtWQ: Downloading ios player API JSON\n",
      "[youtube] ygko18pZtWQ: Downloading android player API JSON\n",
      "[youtube] ygko18pZtWQ: Downloading m3u8 information\n",
      "[info] ygko18pZtWQ: Downloading 1 format(s): 251\n",
      "[download] Destination: download.webm\n",
      "[download]   0.1% of  670.51KiB at  558.05KiB/s ETA 00:01\n",
      "Download progress: 0.1%\n",
      "[download]   0.4% of  670.51KiB at    1.33MiB/s ETA 00:00\n",
      "Download progress: 0.4%\n",
      "[download]   1.0% of  670.51KiB at    2.76MiB/s ETA 00:00\n",
      "Download progress: 1.0%\n",
      "[download]   2.2% of  670.51KiB at    5.33MiB/s ETA 00:00\n",
      "Download progress: 2.2%\n",
      "[download]   4.6% of  670.51KiB at    5.46MiB/s ETA 00:00\n",
      "Download progress: 4.6%\n",
      "[download]   9.4% of  670.51KiB at    1.91MiB/s ETA 00:00\n",
      "Download progress: 9.4%\n",
      "[download]  18.9% of  670.51KiB at    2.03MiB/s ETA 00:00\n",
      "Download progress: 18.9%\n",
      "[download]  38.0% of  670.51KiB at    2.88MiB/s ETA 00:00\n",
      "Download progress: 38.0%\n",
      "[download]  76.2% of  670.51KiB at    4.11MiB/s ETA 00:00\n",
      "Download progress: 76.2%\n",
      "[download] 100.0% of  670.51KiB at    4.78MiB/s ETA 00:00\n",
      "Download progress: 100.0%\n",
      "[download] 100% of  670.51KiB in 00:00:00 at 1.94MiB/s\n",
      "Download progress: 100%\n",
      "Downloaded audio file: download.webm\n"
     ]
    },
    {
     "name": "stderr",
     "output_type": "stream",
     "text": [
      "ffmpeg version 4.4.2-0ubuntu0.22.04.1 Copyright (c) 2000-2021 the FFmpeg developers\n",
      "  built with gcc 11 (Ubuntu 11.2.0-19ubuntu1)\n",
      "  configuration: --prefix=/usr --extra-version=0ubuntu0.22.04.1 --toolchain=hardened --libdir=/usr/lib/x86_64-linux-gnu --incdir=/usr/include/x86_64-linux-gnu --arch=amd64 --enable-gpl --disable-stripping --enable-gnutls --enable-ladspa --enable-libaom --enable-libass --enable-libbluray --enable-libbs2b --enable-libcaca --enable-libcdio --enable-libcodec2 --enable-libdav1d --enable-libflite --enable-libfontconfig --enable-libfreetype --enable-libfribidi --enable-libgme --enable-libgsm --enable-libjack --enable-libmp3lame --enable-libmysofa --enable-libopenjpeg --enable-libopenmpt --enable-libopus --enable-libpulse --enable-librabbitmq --enable-librubberband --enable-libshine --enable-libsnappy --enable-libsoxr --enable-libspeex --enable-libsrt --enable-libssh --enable-libtheora --enable-libtwolame --enable-libvidstab --enable-libvorbis --enable-libvpx --enable-libwebp --enable-libx265 --enable-libxml2 --enable-libxvid --enable-libzimg --enable-libzmq --enable-libzvbi --enable-lv2 --enable-omx --enable-openal --enable-opencl --enable-opengl --enable-sdl2 --enable-pocketsphinx --enable-librsvg --enable-libmfx --enable-libdc1394 --enable-libdrm --enable-libiec61883 --enable-chromaprint --enable-frei0r --enable-libx264 --enable-shared\n",
      "  libavutil      56. 70.100 / 56. 70.100\n",
      "  libavcodec     58.134.100 / 58.134.100\n",
      "  libavformat    58. 76.100 / 58. 76.100\n",
      "  libavdevice    58. 13.100 / 58. 13.100\n",
      "  libavfilter     7.110.100 /  7.110.100\n",
      "  libswscale      5.  9.100 /  5.  9.100\n",
      "  libswresample   3.  9.100 /  3.  9.100\n",
      "  libpostproc    55.  9.100 / 55.  9.100\n",
      "Input #0, matroska,webm, from 'download.webm':\n",
      "  Metadata:\n",
      "    encoder         : google/video-file\n",
      "  Duration: 00:00:53.88, start: -0.007000, bitrate: 101 kb/s\n",
      "  Stream #0:0(eng): Audio: opus, 48000 Hz, stereo, fltp (default)\n",
      "Stream mapping:\n",
      "  Stream #0:0 -> #0:0 (opus (native) -> pcm_s16le (native))\n",
      "Press [q] to stop, [?] for help\n",
      "Output #0, wav, to 'yt_p.wav':\n",
      "  Metadata:\n",
      "    ISFT            : Lavf58.76.100\n",
      "  Stream #0:0(eng): Audio: pcm_s16le ([1][0][0][0] / 0x0001), 16000 Hz, mono, s16, 256 kb/s (default)\n",
      "    Metadata:\n",
      "      encoder         : Lavc58.134.100 pcm_s16le\n",
      "size=     906kB time=00:00:28.99 bitrate= 256.0kbits/s speed= 248x    \n",
      "video:0kB audio:906kB subtitle:0kB other streams:0kB global headers:0kB muxing overhead: 0.008405%\n"
     ]
    },
    {
     "data": {
      "text/plain": [
       "CompletedProcess(args=['ffmpeg', '-y', '-i', 'download.webm', '-ac', '1', '-ar', '16000', '-t', '29', 'yt_p.wav'], returncode=0)"
      ]
     },
     "execution_count": 2,
     "metadata": {},
     "output_type": "execute_result"
    }
   ],
   "source": [
    "import os\n",
    "import subprocess\n",
    "import re\n",
    "\n",
    "# Replace this with the actual URL of the YouTube video\n",
    "url = \"https://www.youtube.com/shorts/8zT4iwaEpbc\"\n",
    "\n",
    "try:\n",
    "    os.remove('download.webm')\n",
    "except FileNotFoundError:\n",
    "    pass  # If the file doesn't exist, do nothing\n",
    "\n",
    "# Start the download process\n",
    "command = [\n",
    "    'yt-dlp', '--rm-cache-dir', '-f', 'bestaudio', '-ciw',\n",
    "    '-o', 'download.%(ext)s', '--no-continue', '--newline', url\n",
    "]\n",
    "process = subprocess.Popen(\n",
    "    command, stdout=subprocess.PIPE, stderr=subprocess.STDOUT, text=True\n",
    ")\n",
    "\n",
    "# Track the progress\n",
    "while True:\n",
    "    output = process.stdout.readline()\n",
    "    if output == '' and process.poll() is not None:\n",
    "        break\n",
    "    if output:\n",
    "        print(output.strip())\n",
    "        if \"download\" in output.lower():\n",
    "            progress_match = re.search(r'\\[download\\]\\s+(\\d+\\.?\\d*%)', output)\n",
    "            if progress_match:\n",
    "                print(f\"Download progress: {progress_match.group(1)}\")\n",
    "\n",
    "exit_code = process.poll()\n",
    "\n",
    "ext = 'webm'\n",
    "input_file = f'download.{ext}'\n",
    "output_file = 'yt_p.wav'\n",
    "\n",
    "print(f\"Downloaded audio file: {input_file}\")\n",
    "\n",
    "# Process the downloaded audio file with ffmpeg\n",
    "subprocess.run(['ffmpeg', '-y', '-i', input_file, '-ac', '1', '-ar', '16000', '-t', '29', output_file])\n"
   ]
  }
 ],
 "metadata": {
  "kernelspec": {
   "display_name": "ai4bharat",
   "language": "python",
   "name": "python3"
  },
  "language_info": {
   "codemirror_mode": {
    "name": "ipython",
    "version": 3
   },
   "file_extension": ".py",
   "mimetype": "text/x-python",
   "name": "python",
   "nbconvert_exporter": "python",
   "pygments_lexer": "ipython3",
   "version": "3.12.0"
  }
 },
 "nbformat": 4,
 "nbformat_minor": 2
}
