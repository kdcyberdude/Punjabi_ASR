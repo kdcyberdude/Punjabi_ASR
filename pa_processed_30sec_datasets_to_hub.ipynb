{
 "cells": [
  {
   "cell_type": "code",
   "execution_count": 1,
   "metadata": {},
   "outputs": [
    {
     "data": {
      "application/vnd.jupyter.widget-view+json": {
       "model_id": "1e7804ee709a41d286c55ca1ec8761e9",
       "version_major": 2,
       "version_minor": 0
      },
      "text/plain": [
       "Loading dataset from disk:   0%|          | 0/28 [00:00<?, ?it/s]"
      ]
     },
     "metadata": {},
     "output_type": "display_data"
    },
    {
     "data": {
      "application/vnd.jupyter.widget-view+json": {
       "model_id": "1250590dd7d549a198d99a3c1f48b234",
       "version_major": 2,
       "version_minor": 0
      },
      "text/plain": [
       "Loading dataset from disk:   0%|          | 0/24 [00:00<?, ?it/s]"
      ]
     },
     "metadata": {},
     "output_type": "display_data"
    },
    {
     "data": {
      "application/vnd.jupyter.widget-view+json": {
       "model_id": "3e3c79d66ab548f586c3da95a9c9d6ee",
       "version_major": 2,
       "version_minor": 0
      },
      "text/plain": [
       "Loading dataset from disk:   0%|          | 0/24 [00:00<?, ?it/s]"
      ]
     },
     "metadata": {},
     "output_type": "display_data"
    },
    {
     "data": {
      "application/vnd.jupyter.widget-view+json": {
       "model_id": "28a7cccf56954b3e8e2bf4fb7e95c95b",
       "version_major": 2,
       "version_minor": 0
      },
      "text/plain": [
       "Loading dataset from disk:   0%|          | 0/24 [00:00<?, ?it/s]"
      ]
     },
     "metadata": {},
     "output_type": "display_data"
    },
    {
     "data": {
      "application/vnd.jupyter.widget-view+json": {
       "model_id": "c8a8cafcde8d407796059dadd6138262",
       "version_major": 2,
       "version_minor": 0
      },
      "text/plain": [
       "Loading dataset from disk:   0%|          | 0/24 [00:00<?, ?it/s]"
      ]
     },
     "metadata": {},
     "output_type": "display_data"
    },
    {
     "data": {
      "application/vnd.jupyter.widget-view+json": {
       "model_id": "d641ddcc3ba14fcd96d90fd68011affc",
       "version_major": 2,
       "version_minor": 0
      },
      "text/plain": [
       "Loading dataset from disk:   0%|          | 0/24 [00:00<?, ?it/s]"
      ]
     },
     "metadata": {},
     "output_type": "display_data"
    },
    {
     "data": {
      "application/vnd.jupyter.widget-view+json": {
       "model_id": "e5f56627d3874683b50ec561587b69e9",
       "version_major": 2,
       "version_minor": 0
      },
      "text/plain": [
       "Loading dataset from disk:   0%|          | 0/24 [00:00<?, ?it/s]"
      ]
     },
     "metadata": {},
     "output_type": "display_data"
    },
    {
     "data": {
      "application/vnd.jupyter.widget-view+json": {
       "model_id": "4c8e3b6953e84c218f3c069b529b881f",
       "version_major": 2,
       "version_minor": 0
      },
      "text/plain": [
       "Loading dataset from disk:   0%|          | 0/24 [00:00<?, ?it/s]"
      ]
     },
     "metadata": {},
     "output_type": "display_data"
    },
    {
     "data": {
      "application/vnd.jupyter.widget-view+json": {
       "model_id": "f9e56e741beb4d3db054ffb85931742e",
       "version_major": 2,
       "version_minor": 0
      },
      "text/plain": [
       "Loading dataset from disk:   0%|          | 0/24 [00:00<?, ?it/s]"
      ]
     },
     "metadata": {},
     "output_type": "display_data"
    },
    {
     "data": {
      "application/vnd.jupyter.widget-view+json": {
       "model_id": "a27163ad4eff4318beb33777708999e1",
       "version_major": 2,
       "version_minor": 0
      },
      "text/plain": [
       "Loading dataset from disk:   0%|          | 0/31 [00:00<?, ?it/s]"
      ]
     },
     "metadata": {},
     "output_type": "display_data"
    },
    {
     "data": {
      "application/vnd.jupyter.widget-view+json": {
       "model_id": "44e56aa683b347c8919fa2a059026533",
       "version_major": 2,
       "version_minor": 0
      },
      "text/plain": [
       "Loading dataset from disk:   0%|          | 0/24 [00:00<?, ?it/s]"
      ]
     },
     "metadata": {},
     "output_type": "display_data"
    },
    {
     "data": {
      "application/vnd.jupyter.widget-view+json": {
       "model_id": "0e182d8d9c474f4d9a4f2410d0d4b164",
       "version_major": 2,
       "version_minor": 0
      },
      "text/plain": [
       "Loading dataset from disk:   0%|          | 0/24 [00:00<?, ?it/s]"
      ]
     },
     "metadata": {},
     "output_type": "display_data"
    },
    {
     "data": {
      "application/vnd.jupyter.widget-view+json": {
       "model_id": "0a82f49b9fb64bfbbe09b1737302c9b6",
       "version_major": 2,
       "version_minor": 0
      },
      "text/plain": [
       "Loading dataset from disk:   0%|          | 0/17 [00:00<?, ?it/s]"
      ]
     },
     "metadata": {},
     "output_type": "display_data"
    }
   ],
   "source": [
    "from datasets import load_from_disk\n",
    "\n",
    "datasets_dirs = [\n",
    "    '/mnt/sea/speech/processed_datasets/CMU_Synth_ASR',\n",
    "      '/mnt/sea/speech/processed_datasets/Common_Voice_16_1_pa-IN_ASR', \n",
    "      '/mnt/sea/speech/processed_datasets/fleurs_pa_ASR',\n",
    "      '/mnt/sea/speech/processed_datasets/Google_Synth_ASR',\n",
    "       '/mnt/sea/speech/ds_filtered/indicsuperb_pa_ASR_filtered', \n",
    "       '/mnt/sea/speech/processed_datasets/Indicvoice_pa_ASR',\n",
    "       '/mnt/sea/speech/processed_datasets/PunjabiSpeech_A_labeled_Speech_Corpus_ASR',\n",
    "        '/mnt/sea/speech/ds_filtered/shrutilipi_pa_ASR_filtered' \n",
    "]\n",
    "\n",
    "datasets = [load_from_disk(f'{d}') for d in datasets_dirs]\n"
   ]
  },
  {
   "cell_type": "code",
   "execution_count": 2,
   "metadata": {},
   "outputs": [
    {
     "data": {
      "text/plain": [
       "DatasetDict({\n",
       "    CMU_Synth_ASR__train: Dataset({\n",
       "        features: ['speaker_id', 'audio', 'text', 'gender', 'duration'],\n",
       "        num_rows: 18179\n",
       "    })\n",
       "    CMU_Synth_ASR__test: Dataset({\n",
       "        features: ['speaker_id', 'audio', 'text', 'gender', 'duration'],\n",
       "        num_rows: 7971\n",
       "    })\n",
       "    CMU_Synth_ASR__valid: Dataset({\n",
       "        features: ['speaker_id', 'audio', 'text', 'gender', 'duration'],\n",
       "        num_rows: 7971\n",
       "    })\n",
       "    Common_Voice_16_1_pa-IN_ASR__train: Dataset({\n",
       "        features: ['speaker_id', 'audio', 'text', 'gender', 'duration'],\n",
       "        num_rows: 166\n",
       "    })\n",
       "    Common_Voice_16_1_pa-IN_ASR__test: Dataset({\n",
       "        features: ['speaker_id', 'audio', 'text', 'gender', 'duration'],\n",
       "        num_rows: 487\n",
       "    })\n",
       "    Common_Voice_16_1_pa-IN_ASR__validation: Dataset({\n",
       "        features: ['speaker_id', 'audio', 'text', 'gender', 'duration'],\n",
       "        num_rows: 286\n",
       "    })\n",
       "    fleurs_pa_ASR__train: Dataset({\n",
       "        features: ['speaker_id', 'audio', 'text', 'gender', 'duration'],\n",
       "        num_rows: 1923\n",
       "    })\n",
       "    fleurs_pa_ASR__valid: Dataset({\n",
       "        features: ['speaker_id', 'audio', 'text', 'gender', 'duration'],\n",
       "        num_rows: 251\n",
       "    })\n",
       "    fleurs_pa_ASR__test: Dataset({\n",
       "        features: ['speaker_id', 'audio', 'text', 'gender', 'duration'],\n",
       "        num_rows: 574\n",
       "    })\n",
       "    Google_Synth_ASR__train: Dataset({\n",
       "        features: ['speaker_id', 'audio', 'text', 'gender', 'duration'],\n",
       "        num_rows: 4589\n",
       "    })\n",
       "    Google_Synth_ASR__test: Dataset({\n",
       "        features: ['speaker_id', 'audio', 'text', 'gender', 'duration'],\n",
       "        num_rows: 5000\n",
       "    })\n",
       "    Google_Synth_ASR__valid: Dataset({\n",
       "        features: ['speaker_id', 'audio', 'text', 'gender', 'duration'],\n",
       "        num_rows: 4999\n",
       "    })\n",
       "    indicsuperb_pa_ASR_filtered__train: Dataset({\n",
       "        features: ['speaker_id', 'audio', 'text', 'gender', 'duration'],\n",
       "        num_rows: 22268\n",
       "    })\n",
       "    indicsuperb_pa_ASR_filtered__test: Dataset({\n",
       "        features: ['speaker_id', 'audio', 'text', 'gender', 'duration'],\n",
       "        num_rows: 7468\n",
       "    })\n",
       "    Indicvoice_pa_ASR__train: Dataset({\n",
       "        features: ['speaker_id', 'audio', 'text', 'gender', 'duration'],\n",
       "        num_rows: 17300\n",
       "    })\n",
       "    Indicvoice_pa_ASR__valid: Dataset({\n",
       "        features: ['speaker_id', 'audio', 'text', 'gender', 'duration'],\n",
       "        num_rows: 95\n",
       "    })\n",
       "    PunjabiSpeech_A_labeled_Speech_Corpus_ASR__train: Dataset({\n",
       "        features: ['speaker_id', 'audio', 'text', 'gender', 'duration'],\n",
       "        num_rows: 468\n",
       "    })\n",
       "    PunjabiSpeech_A_labeled_Speech_Corpus_ASR__valid: Dataset({\n",
       "        features: ['speaker_id', 'audio', 'text', 'gender', 'duration'],\n",
       "        num_rows: 243\n",
       "    })\n",
       "    PunjabiSpeech_A_labeled_Speech_Corpus_ASR__test: Dataset({\n",
       "        features: ['speaker_id', 'audio', 'text', 'gender', 'duration'],\n",
       "        num_rows: 243\n",
       "    })\n",
       "    shrutilipi_pa_ASR_filtered__train: Dataset({\n",
       "        features: ['speaker_id', 'audio', 'text', 'gender', 'duration'],\n",
       "        num_rows: 27991\n",
       "    })\n",
       "    shrutilipi_pa_ASR_filtered__test: Dataset({\n",
       "        features: ['speaker_id', 'audio', 'text', 'gender', 'duration'],\n",
       "        num_rows: 1159\n",
       "    })\n",
       "})"
      ]
     },
     "execution_count": 2,
     "metadata": {},
     "output_type": "execute_result"
    }
   ],
   "source": [
    "from datasets import concatenate_datasets, Dataset, DatasetDict\n",
    "all_dataset_splits = DatasetDict()\n",
    "\n",
    "features = datasets[1]['train'].features.copy()\n",
    "for dir, d in zip(datasets_dirs, datasets):\n",
    "    for split in d.keys():\n",
    "        all_dataset_splits[f'{dir.split(\"/\")[-1]}__{split}'] = d[split].cast(features)\n",
    "\n",
    "# all_dataset_splits['CMU_Synth_ASR__train'] = all_dataset_splits['CMU_Synth_ASR__valid'].cast(features)\n",
    "# all_dataset_splits['CMU_Synth_ASR__valid'] = all_dataset_splits['CMU_Synth_ASR__valid'].cast(features)\n",
    "# all_dataset_splits['CMU_Synth_ASR__test'] = all_dataset_splits['CMU_Synth_ASR__valid'].cast(features)\n",
    "\n",
    "# all_dataset_splits['fleurs_pa_ASR__train'] = all_dataset_splits['fleurs_pa_ASR__train'].cast(features)\n",
    "# all_dataset_splits['fleurs_pa_ASR__valid'] = all_dataset_splits['fleurs_pa_ASR__valid'].cast(features)\n",
    "# all_dataset_splits['fleurs_pa_ASR__test'] = all_dataset_splits['fleurs_pa_ASR__test'].cast(features)\n",
    "# all_dataset_splits['Google_Synth_ASR__train'] = all_dataset_splits['Google_Synth_ASR__train'].cast(features)\n",
    "# all_dataset_splits['Google_Synth_ASR__valid'] = all_dataset_splits['Google_Synth_ASR__valid'].cast(features)\n",
    "\n",
    "\n",
    "all_dataset_splits"
   ]
  },
  {
   "cell_type": "code",
   "execution_count": 3,
   "metadata": {},
   "outputs": [],
   "source": [
    "all_dataset_splits2 = DatasetDict()\n",
    "for split in all_dataset_splits.keys():\n",
    "    if '-' in split:\n",
    "        new_split = split.replace('-', '_')\n",
    "        all_dataset_splits2[new_split] = all_dataset_splits[split]\n",
    "    else:\n",
    "        all_dataset_splits2[split] = all_dataset_splits[split]"
   ]
  },
  {
   "cell_type": "code",
   "execution_count": null,
   "metadata": {},
   "outputs": [],
   "source": [
    "all_dataset_splits2.push_to_hub('kdcyberdude/Punjabi_ASR_datasets')"
   ]
  },
  {
   "cell_type": "code",
   "execution_count": null,
   "metadata": {},
   "outputs": [],
   "source": []
  }
 ],
 "metadata": {
  "kernelspec": {
   "display_name": "ai4bharat",
   "language": "python",
   "name": "python3"
  },
  "language_info": {
   "codemirror_mode": {
    "name": "ipython",
    "version": 3
   },
   "file_extension": ".py",
   "mimetype": "text/x-python",
   "name": "python",
   "nbconvert_exporter": "python",
   "pygments_lexer": "ipython3",
   "version": "3.12.0"
  }
 },
 "nbformat": 4,
 "nbformat_minor": 2
}
