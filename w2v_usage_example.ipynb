{
 "cells": [
  {
   "cell_type": "code",
   "execution_count": null,
   "metadata": {},
   "outputs": [],
   "source": [
    "import speech_utils as su\n",
    "from m4t_processor_with_lm import M4TProcessorWithLM\n",
    "from transformers import Wav2Vec2BertForCTC\n",
    "from transformers import pipeline\n",
    "\n",
    "model_id = 'kdcyberdude/w2v-bert-punjabi'\n",
    "processor = M4TProcessorWithLM.from_pretrained(model_id)\n",
    "model = Wav2Vec2BertForCTC.from_pretrained(model_id)\n",
    "\n",
    "pipe = pipeline('automatic-speech-recognition', model=model, tokenizer=processor.tokenizer, feature_extractor=processor.feature_extractor, decoder=processor.decoder, return_timestamps='word', device='cuda:0')\n",
    "\n",
    "output = pipe(\"example.wav\", chunk_length_s=20, stride_length_s=(4, 4))\n",
    "su.pbprint(output['text'])\n"
   ]
  }
 ],
 "metadata": {
  "kernelspec": {
   "display_name": "ai4bharat",
   "language": "python",
   "name": "python3"
  },
  "language_info": {
   "codemirror_mode": {
    "name": "ipython",
    "version": 3
   },
   "file_extension": ".py",
   "mimetype": "text/x-python",
   "name": "python",
   "nbconvert_exporter": "python",
   "pygments_lexer": "ipython3",
   "version": "3.12.0"
  }
 },
 "nbformat": 4,
 "nbformat_minor": 2
}
